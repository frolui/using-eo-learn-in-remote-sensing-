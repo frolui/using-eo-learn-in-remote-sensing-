{
 "cells": [
  {
   "cell_type": "code",
   "execution_count": null,
   "metadata": {},
   "outputs": [],
   "source": [
    "class PatchSave(EOTask):\n",
    "    def __init__(self, patch):\n",
    "        self.patch = patch       \n",
    "            \n",
    "    def execute(self, eopatch):\n",
    "        eopatch = patch\n",
    "        return eopatch    \n",
    "    \n",
    "patch_out_dnbr = './eopatches_dnbr/' if use_smaller_patches else './eopatches_dnbr/'\n",
    "if not os.path.isdir(patch_out_dnbr):\n",
    "    os.makedirs(patch_out_dnbr)\n",
    "    \n",
    "patch_save = PatchSave(patch)    \n",
    "save_dnbr = SaveToDisk(path_out_dnbr, overwrite_permission=OverwritePermission.OVERWRITE_PATCH)"
   ]
  },
  {
   "cell_type": "code",
   "execution_count": null,
   "metadata": {},
   "outputs": [],
   "source": [
    "workflow_save = LinearWorkflow(\n",
    "    patch_save,     # add rasterisation task, if you want to use land_cover_map\n",
    "    save_dnbr\n",
    ")\n",
    "\n",
    "# Let's visualize it\n",
    "workflow_save.dependency_graph()"
   ]
  },
  {
   "cell_type": "code",
   "execution_count": null,
   "metadata": {},
   "outputs": [],
   "source": [
    "%%time\n",
    "\n",
    "# define additional parameters of the workflow\n",
    "execution_args = []\n",
    "for idx, bbox in enumerate(bbox_list[patchIDs]):\n",
    "    execution_args.append({\n",
    "        save_dnbr: {'eopatch_folder': 'eopatch_{}'.format(idx)}\n",
    "    })\n",
    "\n",
    "executor = EOExecutor(workflow_save, execution_args, save_logs=True)\n",
    "executor.run(workers=5, multiprocess=False)\n",
    "\n",
    "executor.make_report()"
   ]
  },
  {
   "cell_type": "code",
   "execution_count": null,
   "metadata": {},
   "outputs": [],
   "source": [
    "# upgrade this for save dnbr to eo-patch\n",
    "\n",
    "# RasterToVector Задача для преобразования растровой маски в векторную."
   ]
  },
  {
   "cell_type": "code",
   "execution_count": null,
   "metadata": {},
   "outputs": [],
   "source": [
    "# # TASK TO EXPORT TIFF\n",
    "# load = EOPatch.load('./result_patch')\n",
    "\n",
    "# export_tiff = ExportToTiff((FeatureType.DATA, 'dNBR'))\n",
    "# tiff_location = './result_tiff'\n",
    "# if not os.path.isdir(tiff_location):\n",
    "#     os.makedirs(tiff_location)\n",
    "    \n",
    "# execution_args = [{'load' : {'eopatch_folder': 'result_patch'}, \n",
    "#                   'export_tiff': {'filename': '/result_tiff1.tiff'}}]   \n",
    "    \n",
    "# workflow_export = LinearWorkflow(load, export_tiff)    \n",
    "\n",
    "# executor = EOExecutor(workflow_export, execution_args)            \n",
    "# executor.run(workers=2, multiprocess=False)\n",
    "# executor.make_report()"
   ]
  },
  {
   "cell_type": "code",
   "execution_count": null,
   "metadata": {},
   "outputs": [],
   "source": [
    "# # array of shape (h, w)\n",
    "# dst_shape = delta_nbr_1.shape\n",
    "# bbox=[27.48, 51.75, 27.57, 51.64]\n",
    "\n",
    "# # bbox is the bounding box BBox instance used in Wms/WcsRequest \n",
    "# dst_transform = rasterio.transform.from_bounds(*roi_bbox.get_lower_left(), *roi_bbox.get_upper_right(),\n",
    "#                                                width=dst_shape[1], height=dst_shape[0])\n",
    "# dst_crs = 'EPSG:4326'\n",
    "# # dst_crs = {'init': CRS.ogc_string(bbox.crs)}\n",
    "\n",
    "# # Write it out to a file.\n",
    "# with rasterio.open('result_file.tif', 'w', driver='GTiff',\n",
    "#                               width=dst_shape[1], height=dst_shape[0],\n",
    "#                               count=1, dtype=np.uint8, nodata=0,\n",
    "#                               transform=dst_transform, crs=dst_crs) as dst:\n",
    "#     dst.write(delta_nbr_1.astype(np.uint8))\n",
    "      "
   ]
  },
  {
   "cell_type": "code",
   "execution_count": null,
   "metadata": {},
   "outputs": [],
   "source": [
    "# # array of shape (h, w)\n",
    "# dst_shape = delta_nbr_1.shape\n",
    "# bbox=[27.48, 51.75, 27.57, 51.64]\n",
    "\n",
    "# # bbox is the bounding box BBox instance used in Wms/WcsRequest \n",
    "# dst_transform = rasterio.transform.from_bounds(*roi_bbox.get_lower_left(), *roi_bbox.get_upper_right(),\n",
    "#                                                width=dst_shape[1], height=dst_shape[0])\n",
    "# dst_crs = 'EPSG:4326'\n",
    "# # dst_crs = {'init': CRS.ogc_string(bbox.crs)}\n",
    "\n",
    "# # Write it out to a file.\n",
    "# with rasterio.open('result_file.tif', 'w', driver='GTiff',\n",
    "#                               width=dst_shape[1], height=dst_shape[0],\n",
    "#                               count=1, dtype=np.uint8, nodata=0,\n",
    "#                               transform=dst_transform, crs=dst_crs) as dst:\n",
    "#     dst.write(delta_nbr_1.astype(np.uint8))"
   ]
  },
  {
   "cell_type": "code",
   "execution_count": null,
   "metadata": {},
   "outputs": [],
   "source": [
    "# result_export = workflow_export.execute()"
   ]
  },
  {
   "cell_type": "code",
   "execution_count": null,
   "metadata": {},
   "outputs": [],
   "source": [
    "for i in range(1,2):\n",
    "    print(i)"
   ]
  },
  {
   "cell_type": "code",
   "execution_count": null,
   "metadata": {},
   "outputs": [],
   "source": [
    "with rio.open('./exemple_tiff/example.tiff') as src:\n",
    "    naip_data_ras = src.read()\n",
    "    naip_meta = src.profile\n",
    "    \n",
    "    \n",
    "naip_meta    "
   ]
  },
  {
   "cell_type": "code",
   "execution_count": null,
   "metadata": {},
   "outputs": [],
   "source": [
    "naip_transform = naip_meta[\"transform\"]\n",
    "naip_crs = naip_meta[\"crs\"]\n",
    "dst_shape = delta_nbr_1.shape\n",
    "bbox=[27.48, 51.75, 27.57, 51.64]\n",
    "\n",
    "# View spatial attributes\n",
    "naip_transform, naip_crs"
   ]
  },
  {
   "cell_type": "code",
   "execution_count": null,
   "metadata": {},
   "outputs": [],
   "source": [
    "# with rasterio.open('result_file.tiff', 'w', driver='GTiff', width=dst_shape[1], height=dst_shape[0],\n",
    "#                               count=1, dtype=np.uint8, nodata=0,\n",
    "#                               transform=dst_transform, crs=dst_crs) as dst:\n",
    "#     dst.write(delta_nbr_1.astype(np.uint8), 1)    "
   ]
  },
  {
   "cell_type": "code",
   "execution_count": null,
   "metadata": {},
   "outputs": [],
   "source": [
    "# # Write your the ndvi raster object\n",
    "# with rio.open('result_file.tiff', 'w', **naip_meta) as dst:\n",
    "#     dst.write(delta_nbr_1.astype(np.float64), 1)"
   ]
  },
  {
   "cell_type": "code",
   "execution_count": null,
   "metadata": {},
   "outputs": [],
   "source": [
    "min = np.amin(delta_nbr_1)\n",
    "max = np.amax(delta_nbr_1)\n",
    "print (min)\n",
    "print (max)"
   ]
  },
  {
   "cell_type": "code",
   "execution_count": null,
   "metadata": {},
   "outputs": [],
   "source": [
    "def diverse(array):             # returns the amplitude of the values\n",
    "    min = np.amin(array)\n",
    "    max = np.amax(array)\n",
    "    \n",
    "    if min <= 0 and max >= 0:\n",
    "        diverse = abs(min) + max\n",
    "    elif min >= 0 and max >= 0:\n",
    "        diverse = max - min\n",
    "    elif min <= 0 and max <= 0:\n",
    "        diverse = min - max\n",
    "    \n",
    "    return(diverse)"
   ]
  },
  {
   "cell_type": "code",
   "execution_count": null,
   "metadata": {},
   "outputs": [],
   "source": [
    "a = diverse(delta_nbr_1)\n",
    "print(a)"
   ]
  },
  {
   "cell_type": "code",
   "execution_count": null,
   "metadata": {},
   "outputs": [],
   "source": [
    "def normal(array):             # приведение значений массива к 8-битным знаечниям (0,..,255)\n",
    "    min = np.amin(array)\n",
    "    max = np.amax(array)\n",
    "    \n",
    "    if min <= 0 and max >= 0:\n",
    "        diverse = abs(min) + max\n",
    "        \n",
    "        positive_values = diverse + min      # получение положительного промежутка\n",
    "#        negative_values = diverse - positive_values   # получение отрицательного промежутка\n",
    "        \n",
    "        positive_values_part = positive_values / diverse    # получение доли положительного промежутка\n",
    "        negative_values_part = 1 - positive_values_part     # получение доли отрицательного промежутка\n",
    "        \n",
    "        pos8bit = round(positive_values_part * 256)\n",
    "        neg8bit = 256 - pos8bit\n",
    "        \n",
    "        neg_step = (min - 0.00001) / neg8bit    # получение шага яркости равного изменению на 1\n",
    "        \n",
    "        #  необходимо понять, как реализовать проверку каждого отдельного значения в массиве\n",
    "        #  возможно,стоит попробовать разделить 3-хмерный массив на одномерные \n",
    "        #\n",
    "        \n",
    "    elif min >= 0 and max >= 0:\n",
    "        diverse = max - min\n",
    "        \n",
    "        \n",
    "    elif min <= 0 and max <= 0:\n",
    "        diverse = min - max\n",
    "        \n",
    "    return (positive_values_part, negative_values_part, pos8bit, neg8bit, neg_step)    "
   ]
  }
 ],
 "metadata": {
  "kernelspec": {
   "display_name": "Python 3",
   "language": "python",
   "name": "python3"
  },
  "language_info": {
   "codemirror_mode": {
    "name": "ipython",
    "version": 3
   },
   "file_extension": ".py",
   "mimetype": "text/x-python",
   "name": "python",
   "nbconvert_exporter": "python",
   "pygments_lexer": "ipython3",
   "version": "3.7.2"
  }
 },
 "nbformat": 4,
 "nbformat_minor": 2
}
