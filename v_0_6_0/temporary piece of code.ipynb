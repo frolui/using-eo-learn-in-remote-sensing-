{
 "cells": [
  {
   "cell_type": "code",
   "execution_count": null,
   "metadata": {},
   "outputs": [],
   "source": [
    "class PatchSave(EOTask):\n",
    "    def __init__(self, patch):\n",
    "        self.patch = patch       \n",
    "            \n",
    "    def execute(self, eopatch):\n",
    "        eopatch = patch\n",
    "        return eopatch    \n",
    "    \n",
    "patch_out_dnbr = './eopatches_dnbr/' if use_smaller_patches else './eopatches_dnbr/'\n",
    "if not os.path.isdir(patch_out_dnbr):\n",
    "    os.makedirs(patch_out_dnbr)\n",
    "    \n",
    "patch_save = PatchSave(patch)    \n",
    "save_dnbr = SaveToDisk(path_out_dnbr, overwrite_permission=OverwritePermission.OVERWRITE_PATCH)"
   ]
  },
  {
   "cell_type": "code",
   "execution_count": null,
   "metadata": {},
   "outputs": [],
   "source": [
    "workflow_save = LinearWorkflow(\n",
    "    patch_save,     # add rasterisation task, if you want to use land_cover_map\n",
    "    save_dnbr\n",
    ")\n",
    "\n",
    "# Let's visualize it\n",
    "workflow_save.dependency_graph()"
   ]
  },
  {
   "cell_type": "code",
   "execution_count": null,
   "metadata": {},
   "outputs": [],
   "source": [
    "%%time\n",
    "\n",
    "# define additional parameters of the workflow\n",
    "execution_args = []\n",
    "for idx, bbox in enumerate(bbox_list[patchIDs]):\n",
    "    execution_args.append({\n",
    "        save_dnbr: {'eopatch_folder': 'eopatch_{}'.format(idx)}\n",
    "    })\n",
    "\n",
    "executor = EOExecutor(workflow_save, execution_args, save_logs=True)\n",
    "executor.run(workers=5, multiprocess=False)\n",
    "\n",
    "executor.make_report()"
   ]
  },
  {
   "cell_type": "code",
   "execution_count": null,
   "metadata": {},
   "outputs": [],
   "source": [
    "# upgrade this for save dnbr to eo-patch\n",
    "\n",
    "# RasterToVector Задача для преобразования растровой маски в векторную."
   ]
  }
 ],
 "metadata": {
  "kernelspec": {
   "display_name": "Python 3",
   "language": "python",
   "name": "python3"
  },
  "language_info": {
   "codemirror_mode": {
    "name": "ipython",
    "version": 3
   },
   "file_extension": ".py",
   "mimetype": "text/x-python",
   "name": "python",
   "nbconvert_exporter": "python",
   "pygments_lexer": "ipython3",
   "version": "3.7.2"
  }
 },
 "nbformat": 4,
 "nbformat_minor": 2
}
