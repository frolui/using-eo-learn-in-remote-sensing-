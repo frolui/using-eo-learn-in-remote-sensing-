{
 "cells": [
  {
   "cell_type": "code",
   "execution_count": null,
   "metadata": {},
   "outputs": [],
   "source": [
    "# Заготовка базового класса детектора пожаров\n",
    "# На данный момент функционал до конца не реализован\n",
    "# Решается вопрос с источниками для получния входной векторной маски, или же построением рабочего процесса без её применения\n",
    "# Второй вариант более приоритетный\n",
    "\n",
    "class FireDetector(EOTask):\n",
    "\n",
    "    @staticmethod\n",
    "    def detect_water(dnbr):\n",
    "        \"\"\"\n",
    "        Very simple water detector based on Otsu thresholding method of NDWI.\n",
    "        \n",
    "        Очень простой водный детектор, основанный на детекторе Отцу по NDWI (исходник). \n",
    "        \"\"\"\n",
    "        otsu_thr = 1.0\n",
    "        if len(np.unique(dnbr)) > 1:\n",
    "            otsu_thr = threshold_otsu(dnbr)\n",
    "\n",
    "        return ndwi > otsu_thr\n",
    "\n",
    "    def execute(self, eopatch):\n",
    "        \n",
    "        # Преобразует входные данные в массив\n",
    "        water_masks = np.asarray([self.detect_water(dnbr[...,0]) for dnbr in eopatch.data['dNBR']])\n",
    "\n",
    "        # we're only interested in the water within the dam borders\n",
    "        # нас интересует только вода в границах плотины\n",
    "        \n",
    "        # NOMINAL_WATER - растровая маска, созданная по вектору водопокрытых площадей\n",
    "        water_masks = water_masks[...,np.newaxis] * eopatch.mask_timeless['NOMINAL_WATER']\n",
    "\n",
    "        \n",
    "        # count_nonzero - Подсчитывает количество ненулевых значений в массиве a.\n",
    "        \n",
    "        water_levels = np.asarray([np.count_nonzero(mask)  /  np.count_nonzero(eopatch.mask_timeless['NOMINAL_WATER'])\n",
    "                                   for mask in water_masks])\n",
    "\n",
    "        # add_feature - Добавление новых значений в eopatch\n",
    "        # WATER_MASK - Водная маска\n",
    "        # WATER_LEVEL - Водный уровень\n",
    "        \n",
    "        eopatch.add_feature(FeatureType.MASK, 'WATER_MASK', water_masks)\n",
    "        eopatch.add_feature(FeatureType.SCALAR, 'WATER_LEVEL', water_levels[...,np.newaxis])\n",
    "\n",
    "        return eopatch\n",
    "\n",
    "fire_detection = FireDetector()"
   ]
  },
  {
   "cell_type": "code",
   "execution_count": null,
   "metadata": {},
   "outputs": [],
   "source": [
    "\"\"\"\n",
    "Потенциальное решение проблемы - создание векторной маски NOMINAL_FOREST, для то того, чтобы поиск происходил только \n",
    "по лесопокрытой территории.\n",
    "\n",
    "Необходимо добавить таску на запись NOMINAL_FOREST в один из рабочих процессов\n",
    "\"\"\""
   ]
  }
 ],
 "metadata": {
  "kernelspec": {
   "display_name": "Python 3",
   "language": "python",
   "name": "python3"
  },
  "language_info": {
   "codemirror_mode": {
    "name": "ipython",
    "version": 3
   },
   "file_extension": ".py",
   "mimetype": "text/x-python",
   "name": "python",
   "nbconvert_exporter": "python",
   "pygments_lexer": "ipython3",
   "version": "3.7.2"
  }
 },
 "nbformat": 4,
 "nbformat_minor": 2
}
