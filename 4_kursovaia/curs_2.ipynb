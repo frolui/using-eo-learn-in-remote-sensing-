{
 "cells": [
  {
   "cell_type": "code",
   "execution_count": 1,
   "metadata": {},
   "outputs": [],
   "source": [
    "# Firstly, some necessary imports\n",
    "\n",
    "# Jupyter notebook related\n",
    "%reload_ext autoreload\n",
    "%autoreload 2\n",
    "%matplotlib inline\n",
    "\n",
    "# Basics of Python data handling and visualization\n",
    "import numpy as np\n",
    "import matplotlib as mpl\n",
    "import matplotlib.pyplot as plt\n",
    "import matplotlib.gridspec as gridspec\n",
    "from mpl_toolkits.axes_grid1 import make_axes_locatable\n",
    "import pandas as pd\n",
    "from shapely.geometry import Polygon\n",
    "\n",
    "# Basics of GIS\n",
    "import geopandas as gpd\n",
    "\n",
    "# The core of this example\n",
    "from eolearn.core import EOTask, EOPatch, LinearWorkflow, FeatureType, OverwritePermission, LoadFromDisk, SaveToDisk, EOExecutor\n",
    "from eolearn.io import S2L1CWCSInput, ExportToTiff\n",
    "from eolearn.mask import AddCloudMaskTask, get_s2_pixel_cloud_detector, AddValidDataMaskTask\n",
    "from eolearn.geometry import VectorToRaster, PointSamplingTask, ErosionTask\n",
    "from eolearn.features import LinearInterpolation, SimpleFilterTask\n",
    "from sentinelhub import BBoxSplitter, BBox, CRS, CustomUrlParam\n",
    "\n",
    "# Machine learning\n",
    "import lightgbm as lgb\n",
    "from sklearn.externals import joblib\n",
    "from sklearn import metrics\n",
    "from sklearn import preprocessing\n",
    "\n",
    "# Misc\n",
    "import pickle\n",
    "import sys\n",
    "import os\n",
    "import datetime\n",
    "import itertools\n",
    "from tqdm import tqdm_notebook as tqdm\n",
    "import enum"
   ]
  },
  {
   "cell_type": "code",
   "execution_count": 2,
   "metadata": {},
   "outputs": [],
   "source": [
    "# Load geojson file\n",
    "country = gpd.read_file('D:/YandexDisk/курсач_4/obrovo/buff500.shp') \n",
    "\n",
    "# Convert CRS to UTM_35N\n",
    "country_crs = CRS.UTM_35N\n",
    "country = country.to_crs(crs={'init': CRS.ogc_string(country_crs)})\n",
    "\n",
    "# Get the country's shape in polygon format\n",
    "country_shape = country.geometry.values.tolist()[-1]"
   ]
  },
  {
   "cell_type": "code",
   "execution_count": 3,
   "metadata": {},
   "outputs": [
    {
     "data": {
      "image/png": "[encoded data removed]",
      "text/plain": [
       "<Figure size 432x288 with 1 Axes>"
      ]
     },
     "metadata": {
      "needs_background": "light"
     },
     "output_type": "display_data"
    }
   ],
   "source": [
    "# Plot country\n",
    "country.plot()\n",
    "plt.axis('off');"
   ]
  },
  {
   "cell_type": "code",
   "execution_count": 4,
   "metadata": {},
   "outputs": [
    {
     "name": "stdout",
     "output_type": "stream",
     "text": [
      "Dimension of the area is 3177 x 2929 m2\n"
     ]
    }
   ],
   "source": [
    "# Print size\n",
    "print('Dimension of the area is {0:.0f} x {1:.0f} m2'.format(country_shape.bounds[2] - country_shape.bounds[0],\n",
    "                                                             country_shape.bounds[3] - country_shape.bounds[1]))"
   ]
  },
  {
   "cell_type": "code",
   "execution_count": 28,
   "metadata": {},
   "outputs": [],
   "source": [
    "use_smaller_patches = True\n",
    "\n",
    "# Create the splitter to obtain a list of bboxes\n",
    "bbox_splitter_large = BBoxSplitter([country_shape], country_crs, (2, 2))\n",
    "bbox_splitter_small = BBoxSplitter([country_shape], country_crs, (2 * 3, 2 * 3))\n",
    "\n",
    "bbox_splitter = bbox_splitter_small if use_smaller_patches else bbox_splitter_large\n",
    "\n",
    "bbox_list = np.array(bbox_splitter.get_bbox_list())\n",
    "info_list = np.array(bbox_splitter.get_info_list())"
   ]
  },
  {
   "cell_type": "code",
   "execution_count": 29,
   "metadata": {},
   "outputs": [],
   "source": [
    "# For the future examples, we will be using a specific set of patches,\n",
    "# but you are free to change the patch ID numbers in the scope of this example\n",
    "# Select a central patch\n",
    "ID = 7 if use_smaller_patches else 190\n",
    "\n",
    "# Obtain surrounding patches\n",
    "patchIDs = []\n",
    "for idx, [bbox, info] in enumerate(zip(bbox_list, info_list)):\n",
    "    if (abs(info['index_x'] - info_list[ID]['index_x']) <= 1 and\n",
    "        abs(info['index_y'] - info_list[ID]['index_y']) <= 1):\n",
    "        patchIDs.append(idx)\n",
    "        \n",
    "# Check if final size is 3x3\n",
    "if len(patchIDs) != 9:\n",
    "    print('Warning! Use a different central patch ID, this one is on the border.')  \n",
    "\n",
    "# Change the order of the patches (used for plotting later)\n",
    "patchIDs = np.transpose(np.fliplr(np.array(patchIDs).reshape(3, 3))).ravel()   \n",
    "\n",
    "# Prepare info of selected EOPatches\n",
    "geometry = [Polygon(bbox.get_polygon()) for bbox in bbox_list[patchIDs]]\n",
    "idxs_x = [info['index_x'] for info in info_list[patchIDs]]\n",
    "idxs_y = [info['index_y'] for info in info_list[patchIDs]]\n",
    "df = pd.DataFrame({'index_x': idxs_x, 'index_y': idxs_y})\n",
    "gdf = gpd.GeoDataFrame(df,\n",
    "                       crs={'init': CRS.ogc_string(country_crs)},\n",
    "                       geometry=geometry)"
   ]
  },
  {
   "cell_type": "code",
   "execution_count": 30,
   "metadata": {},
   "outputs": [],
   "source": [
    "# save to shapefile\n",
    "shapefile_name = './selected_3x3_bboxes_dist_small_2.shp' if use_smaller_patches \\\n",
    "    else './selected_3x3_bboxes_dist_large_2.shp'\n",
    "gdf.to_file(shapefile_name)"
   ]
  },
  {
   "cell_type": "code",
   "execution_count": 31,
   "metadata": {},
   "outputs": [
    {
     "data": {
      "text/html": [
       "<div>\n",
       "<style scoped>\n",
       "    .dataframe tbody tr th:only-of-type {\n",
       "        vertical-align: middle;\n",
       "    }\n",
       "\n",
       "    .dataframe tbody tr th {\n",
       "        vertical-align: top;\n",
       "    }\n",
       "\n",
       "    .dataframe thead th {\n",
       "        text-align: right;\n",
       "    }\n",
       "</style>\n",
       "<table border=\"1\" class=\"dataframe\">\n",
       "  <thead>\n",
       "    <tr style=\"text-align: right;\">\n",
       "      <th></th>\n",
       "      <th>index_x</th>\n",
       "      <th>index_y</th>\n",
       "      <th>geometry</th>\n",
       "    </tr>\n",
       "  </thead>\n",
       "  <tbody>\n",
       "    <tr>\n",
       "      <th>0</th>\n",
       "      <td>0</td>\n",
       "      <td>2</td>\n",
       "      <td>POLYGON ((408702.2934464552 5781395.214512469,...</td>\n",
       "    </tr>\n",
       "    <tr>\n",
       "      <th>1</th>\n",
       "      <td>1</td>\n",
       "      <td>2</td>\n",
       "      <td>POLYGON ((409231.7351887127 5781395.214512469,...</td>\n",
       "    </tr>\n",
       "    <tr>\n",
       "      <th>2</th>\n",
       "      <td>2</td>\n",
       "      <td>2</td>\n",
       "      <td>POLYGON ((409761.1769309702 5781395.214512469,...</td>\n",
       "    </tr>\n",
       "    <tr>\n",
       "      <th>3</th>\n",
       "      <td>0</td>\n",
       "      <td>1</td>\n",
       "      <td>POLYGON ((408702.2934464552 5780907.069118817,...</td>\n",
       "    </tr>\n",
       "    <tr>\n",
       "      <th>4</th>\n",
       "      <td>1</td>\n",
       "      <td>1</td>\n",
       "      <td>POLYGON ((409231.7351887127 5780907.069118817,...</td>\n",
       "    </tr>\n",
       "  </tbody>\n",
       "</table>\n",
       "</div>"
      ],
      "text/plain": [
       "   index_x  index_y                                           geometry\n",
       "0        0        2  POLYGON ((408702.2934464552 5781395.214512469,...\n",
       "1        1        2  POLYGON ((409231.7351887127 5781395.214512469,...\n",
       "2        2        2  POLYGON ((409761.1769309702 5781395.214512469,...\n",
       "3        0        1  POLYGON ((408702.2934464552 5780907.069118817,...\n",
       "4        1        1  POLYGON ((409231.7351887127 5780907.069118817,..."
      ]
     },
     "execution_count": 31,
     "metadata": {},
     "output_type": "execute_result"
    }
   ],
   "source": [
    "poly = gdf['geometry'][0]\n",
    "x1, y1, x2, y2 = poly.bounds\n",
    "aspect_ratio = (y1 - y2) / (x1 - x2)\n",
    "\n",
    "# content of the geopandas dataframe\n",
    "gdf.head()"
   ]
  },
  {
   "cell_type": "code",
   "execution_count": 32,
   "metadata": {},
   "outputs": [],
   "source": [
    "fontdict = {'family': 'monospace', 'weight': 'normal', 'size': 11}\n",
    "\n",
    "# if bboxes have all same size, estimate offset\n",
    "xl, yl, xu, yu = gdf.geometry[0].bounds\n",
    "xoff, yoff = (xu - xl) / 3, (yu - yl) / 5"
   ]
  },
  {
   "cell_type": "code",
   "execution_count": 33,
   "metadata": {},
   "outputs": [
    {
     "data": {
      "text/plain": [
       "(408543.46092377783, 412037.77642267745, 5780272.48010707, 5783494.23970517)"
      ]
     },
     "execution_count": 33,
     "metadata": {},
     "output_type": "execute_result"
    },
    {
     "data": {
      "image/png": "[encoded data removed]",
      "text/plain": [
       "<Figure size 1440x1440 with 1 Axes>"
      ]
     },
     "metadata": {
      "needs_background": "light"
     },
     "output_type": "display_data"
    }
   ],
   "source": [
    "# figure\n",
    "fig, ax = plt.subplots(figsize=(20, 20))\n",
    "gdf.plot(ax=ax,facecolor='w',edgecolor='r',alpha=0.5)\n",
    "country.plot(ax=ax, facecolor='w',edgecolor='b',alpha=0.5)\n",
    "ax.set_title('Selected 3x3  tiles from dist (2 x 2 grid)');\n",
    "plt.axis('off')"
   ]
  },
  {
   "cell_type": "code",
   "execution_count": 34,
   "metadata": {},
   "outputs": [],
   "source": [
    "class SentinelHubValidData:\n",
    "    \"\"\"\n",
    "    Combine Sen2Cor's classification map with `IS_DATA` to define a `VALID_DATA_SH` mask\n",
    "    The SentinelHub's cloud mask is asumed to be found in eopatch.mask['CLM']\n",
    "    \"\"\"\n",
    "    def __call__(self, eopatch):\n",
    "        return np.logical_and(eopatch.mask['IS_DATA'].astype(np.bool),\n",
    "                              np.logical_not(eopatch.mask['CLM'].astype(np.bool)))\n",
    "\n",
    "class CountValid(EOTask):\n",
    "    \"\"\"\n",
    "    The task counts number of valid observations in time-series and stores the results in the timeless mask.\n",
    "    \"\"\"\n",
    "    def __init__(self, count_what, feature_name):\n",
    "        self.what = count_what\n",
    "        self.name = feature_name\n",
    "\n",
    "    def execute(self, eopatch):\n",
    "        eopatch.add_feature(FeatureType.MASK_TIMELESS, self.name, np.count_nonzero(eopatch.mask[self.what],axis=0))\n",
    "\n",
    "        return eopatch\n",
    "\n",
    "\n",
    "class NormalizedDifferenceIndex(EOTask):\n",
    "    \"\"\"\n",
    "    The tasks calculates user defined Normalised Difference Index (NDI) between two bands A and B as:\n",
    "    NDI = (A-B)/(A+B).\n",
    "    \"\"\"\n",
    "    def __init__(self, feature_name, band_a, band_b):\n",
    "        self.feature_name = feature_name\n",
    "        self.band_a_fetaure_name = band_a.split('/')[0]\n",
    "        self.band_b_fetaure_name = band_b.split('/')[0]\n",
    "        self.band_a_fetaure_idx = int(band_a.split('/')[-1])\n",
    "        self.band_b_fetaure_idx = int(band_b.split('/')[-1])\n",
    "\n",
    "    def execute(self, eopatch):\n",
    "        band_a = eopatch.data[self.band_a_fetaure_name][..., self.band_a_fetaure_idx]\n",
    "        band_b = eopatch.data[self.band_b_fetaure_name][..., self.band_b_fetaure_idx]\n",
    "\n",
    "        ndi = (band_a - band_b) / (band_a  + band_b)\n",
    "\n",
    "        eopatch.add_feature(FeatureType.DATA, self.feature_name, ndi[..., np.newaxis])\n",
    "\n",
    "        return eopatch\n",
    "\n",
    "\n",
    "class EuclideanNorm(EOTask):\n",
    "    \"\"\"\n",
    "    The tasks calculates Euclidian Norm of all bands within an array:\n",
    "    norm = sqrt(sum_i Bi**2),\n",
    "    where Bi are the individual bands within user-specified feature array.\n",
    "    \"\"\"\n",
    "    def __init__(self, feature_name, in_feature_name):\n",
    "        self.feature_name = feature_name\n",
    "        self.in_feature_name = in_feature_name\n",
    "\n",
    "    def execute(self, eopatch):\n",
    "        arr = eopatch.data[self.in_feature_name]\n",
    "        norm = np.sqrt(np.sum(arr**2, axis=-1))\n",
    "\n",
    "        eopatch.add_feature(FeatureType.DATA, self.feature_name, norm[..., np.newaxis])\n",
    "        return eopatch\n",
    "    \n",
    "# Определение задач рабочего процесса\n",
    "# TASK FOR BAND DATA\n",
    "# add a request for B(B02), G(B03), R(B04), NIR (B08), SWIR1(B11), SWIR2(B12)\n",
    "# from default layer 'ALL_BANDS' at 10m resolution\n",
    "# Here we also do a simple filter of cloudy scenes. A detailed cloud cover\n",
    "# detection is performed in the next step\n",
    "custom_script = 'return [B02, B03, B04, B08, B11, B12];'\n",
    "add_data = S2L1CWCSInput(\n",
    "    layer='BANDS-S2-L1C',\n",
    "    feature=(FeatureType.DATA, 'BANDS'), # save under name 'BANDS'\n",
    "    custom_url_params={CustomUrlParam.EVALSCRIPT: custom_script}, # custom url for 6 specific bands\n",
    "    resx='10m', # resolution x\n",
    "    resy='10m', # resolution y\n",
    "    maxcc=0.8, # maximum allowed cloud cover of original ESA tiles\n",
    ")\n",
    "\n",
    "# TASK FOR CLOUD INFO\n",
    "# cloud detection is performed at 80m resolution\n",
    "# and the resulting cloud probability map and mask\n",
    "# are scaled to EOPatch's resolution\n",
    "cloud_classifier = get_s2_pixel_cloud_detector(average_over=2, dilation_size=1, all_bands=False)\n",
    "add_clm = AddCloudMaskTask(cloud_classifier, 'BANDS-S2CLOUDLESS', cm_size_y='80m', cm_size_x='80m',\n",
    "                           cmask_feature='CLM', # cloud mask name\n",
    "                           cprobs_feature='CLP' # cloud prob. map name\n",
    "                          )\n",
    "\n",
    "# TASKS FOR CALCULATING NEW FEATURES\n",
    "# NDVI: (B08 - B04)/(B08 + B04)\n",
    "# NDWI: (B03 - B08)/(B03 + B08)\n",
    "# NORM: sqrt(B02^2 + B03^2 + B04^2 + B08^2 + B11^2 + B12^2)\n",
    "ndvi = NormalizedDifferenceIndex('NDVI', 'BANDS/3', 'BANDS/2')\n",
    "ndwi = NormalizedDifferenceIndex('NDWI', 'BANDS/1', 'BANDS/3')\n",
    "norm = EuclideanNorm('NORM','BANDS')\n",
    "\n",
    "# TASK FOR VALID MASK\n",
    "# validate pixels using SentinelHub's cloud detection mask and region of acquisition\n",
    "add_sh_valmask = AddValidDataMaskTask(SentinelHubValidData(),\n",
    "                                      'IS_VALID' # name of output mask\n",
    "                                     )\n",
    "\n",
    "# TASK FOR COUNTING VALID PIXELS\n",
    "# count number of valid observations per pixel using valid data mask\n",
    "count_val_sh = CountValid('IS_VALID', # name of existing mask\n",
    "                          'VALID_COUNT' # name of output scalar\n",
    "                         )\n",
    "\n",
    "# TASK FOR SAVING TO OUTPUT (if needed)\n",
    "path_out = './eopatches_small/' if use_smaller_patches else './eopatches_large/'\n",
    "if not os.path.isdir(path_out):\n",
    "    os.makedirs(path_out)\n",
    "save = SaveToDisk(path_out, overwrite_permission=OverwritePermission.OVERWRITE_PATCH)"
   ]
  },
  {
   "cell_type": "code",
   "execution_count": 35,
   "metadata": {},
   "outputs": [],
   "source": [
    "# Определение классов земного покрова\n",
    "# Необходимо найти данные о землепользовании (где и как непонятно)\n",
    "class type_of_wo(enum.Enum):\n",
    "    NO_DATA            = (0,  'No Data',            'white')\n",
    "    SOSNA_MOL          = (1,  'SOSNA_MOL',          'xkcd:lime')\n",
    "    DUB                = (2,  'DUB',                'xkcd:darkgreen')\n",
    "    BEREZA             = (3,  'BEREZA',             'orange')\n",
    "    SOSNA              = (4,  'SOSNA',              'xkcd:tan')\n",
    "    GRAB               = (5,  'GRAB',               'xkcd:azure')\n",
    "    MELKOLISTV         = (6,  'MELKOLISTV',         'xkcd:lightblue')\n",
    "    \n",
    "    def __init__(self, val1, val2, val3):\n",
    "        self.id = val1\n",
    "        self.class_name = val2\n",
    "        self.color = val3\n",
    "\n",
    "# example usecase\n",
    "# LULC.BARELAND.id   # return 9\n",
    "\n",
    "# Reference colormap things\n",
    "lulc_cmap = mpl.colors.ListedColormap([entry.color for entry in type_of_wo])\n",
    "lulc_norm = mpl.colors.BoundaryNorm(np.arange(-0.5, 11, 1), lulc_cmap.N)"
   ]
  },
  {
   "cell_type": "code",
   "execution_count": 36,
   "metadata": {},
   "outputs": [],
   "source": [
    "land_cover_path = 'D:/YandexDisk/курсач_4/obrovo/model.shp' if use_smaller_patches \\\n",
    "    else 'D:/YandexDisk/курсач_4/obrovo/model.shp'"
   ]
  },
  {
   "cell_type": "code",
   "execution_count": 37,
   "metadata": {},
   "outputs": [],
   "source": [
    "land_cover = gpd.read_file(land_cover_path)\n",
    "\n",
    "# Приведение координатной системы к UTM_35N\n",
    "# Convert CRS to UTM_35N\n",
    "country_crs = CRS.UTM_33N\n",
    "land_cover = land_cover.to_crs(crs={'init': CRS.ogc_string(country_crs)})\n",
    "\n",
    "land_cover_val = [0,1,2,3,4,5,6]\n",
    "land_cover_array = []\n",
    "for val in land_cover_val:\n",
    "    temp = land_cover[land_cover.type_of_wo == val]\n",
    "    temp.reset_index(drop=True, inplace=True)\n",
    "    land_cover_array.append(temp)\n",
    "    del temp\n",
    "\n",
    "rshape = (FeatureType.MASK, 'IS_VALID')\n",
    "\n",
    "land_cover_task_array = []\n",
    "for el, val in zip(land_cover_array, land_cover_val):\n",
    "    land_cover_task_array.append(VectorToRaster(\n",
    "        feature=(FeatureType.MASK_TIMELESS, 'type_of_wo'),\n",
    "        vector_data=el,\n",
    "        raster_value=val,\n",
    "        raster_shape=rshape,\n",
    "        raster_dtype=np.uint8))"
   ]
  },
  {
   "cell_type": "code",
   "execution_count": 38,
   "metadata": {},
   "outputs": [],
   "source": [
    "# Define the workflow\n",
    "workflow = LinearWorkflow(\n",
    "    add_data,\n",
    "    add_clm,\n",
    "    ndvi,\n",
    "    ndwi,\n",
    "    norm,\n",
    "    add_sh_valmask,\n",
    "    count_val_sh,\n",
    "    *land_cover_task_array,\n",
    "    save\n",
    ")"
   ]
  },
  {
   "cell_type": "code",
   "execution_count": 41,
   "metadata": {},
   "outputs": [
    {
     "data": {
      "application/vnd.jupyter.widget-view+json": {
       "model_id": "c2af7b2f9d8b497187dbb114d11e4019",
       "version_major": 2,
       "version_minor": 0
      },
      "text/plain": [
       "HBox(children=(IntProgress(value=0, max=9), HTML(value='')))"
      ]
     },
     "metadata": {},
     "output_type": "display_data"
    },
    {
     "name": "stderr",
     "output_type": "stream",
     "text": [
      "WARNING:eolearn.mask.cloud_mask:Removed data for frame 2017-06-01 09:30:36 from eopatch due to unavailability of BANDS-S2CLOUDLESS!\n",
      "WARNING:eolearn.mask.cloud_mask:Removed data for frame 2017-06-01 09:30:36 from eopatch due to unavailability of BANDS-S2CLOUDLESS!\n",
      "c:\\users\\frolui\\appdata\\local\\programs\\python\\python37\\lib\\site-packages\\ipykernel_launcher.py:40: RuntimeWarning: invalid value encountered in true_divide\n",
      "WARNING:eolearn.mask.cloud_mask:Removed data for frame 2017-06-01 09:30:36 from eopatch due to unavailability of BANDS-S2CLOUDLESS!\n",
      "c:\\users\\frolui\\appdata\\local\\programs\\python\\python37\\lib\\site-packages\\ipykernel_launcher.py:40: RuntimeWarning: invalid value encountered in true_divide\n",
      "WARNING:eolearn.mask.cloud_mask:Removed data for frame 2017-06-01 09:30:36 from eopatch due to unavailability of BANDS-S2CLOUDLESS!\n",
      "WARNING:eolearn.mask.cloud_mask:Removed data for frame 2017-06-01 09:30:36 from eopatch due to unavailability of BANDS-S2CLOUDLESS!\n",
      "c:\\users\\frolui\\appdata\\local\\programs\\python\\python37\\lib\\site-packages\\ipykernel_launcher.py:40: RuntimeWarning: invalid value encountered in true_divide\n",
      "WARNING:eolearn.mask.cloud_mask:Removed data for frame 2017-06-01 09:30:36 from eopatch due to unavailability of BANDS-S2CLOUDLESS!\n",
      "c:\\users\\frolui\\appdata\\local\\programs\\python\\python37\\lib\\site-packages\\ipykernel_launcher.py:40: RuntimeWarning: invalid value encountered in true_divide\n",
      "WARNING:eolearn.mask.cloud_mask:Removed data for frame 2017-06-01 09:30:36 from eopatch due to unavailability of BANDS-S2CLOUDLESS!\n",
      "WARNING:eolearn.mask.cloud_mask:Removed data for frame 2017-06-01 09:30:36 from eopatch due to unavailability of BANDS-S2CLOUDLESS!\n",
      "c:\\users\\frolui\\appdata\\local\\programs\\python\\python37\\lib\\site-packages\\ipykernel_launcher.py:40: RuntimeWarning: invalid value encountered in true_divide\n",
      "WARNING:eolearn.mask.cloud_mask:Removed data for frame 2017-06-01 09:30:36 from eopatch due to unavailability of BANDS-S2CLOUDLESS!\n",
      "c:\\users\\frolui\\appdata\\local\\programs\\python\\python37\\lib\\site-packages\\ipykernel_launcher.py:40: RuntimeWarning: invalid value encountered in true_divide\n"
     ]
    },
    {
     "name": "stdout",
     "output_type": "stream",
     "text": [
      "Wall time: 50.3 s\n"
     ]
    }
   ],
   "source": [
    "%%time\n",
    "\n",
    "# Execute the workflow\n",
    "time_interval = ['2017-04-17', '2017-06-01'] # time interval for the SH request\n",
    "\n",
    "# Show progress bar\n",
    "pbar = tqdm(total=len(patchIDs))\n",
    "for idx, bbox in enumerate(bbox_list[patchIDs]):\n",
    "\n",
    "    # define additional parameters of the workflow\n",
    "    extra_param = {\n",
    "        add_data:{'bbox': bbox, 'time_interval': time_interval},\n",
    "        save: {'eopatch_folder': 'eopatch_{}'.format(idx)}\n",
    "    }\n",
    "\n",
    "    workflow.execute(extra_param)\n",
    "    pbar.update(1)"
   ]
  },
  {
   "cell_type": "code",
   "execution_count": 42,
   "metadata": {},
   "outputs": [
    {
     "data": {
      "text/plain": [
       "EOPatch(\n",
       "  data: {\n",
       "    BANDS: numpy.ndarray(shape=(6, 49, 53, 6), dtype=float32)\n",
       "    CLP: numpy.ndarray(shape=(6, 49, 53, 1), dtype=float32)\n",
       "    NDVI: numpy.ndarray(shape=(6, 49, 53, 1), dtype=float32)\n",
       "    NDWI: numpy.ndarray(shape=(6, 49, 53, 1), dtype=float32)\n",
       "    NORM: numpy.ndarray(shape=(6, 49, 53, 1), dtype=float32)\n",
       "  }\n",
       "  mask: {\n",
       "    CLM: numpy.ndarray(shape=(6, 49, 53, 1), dtype=bool)\n",
       "    IS_DATA: numpy.ndarray(shape=(6, 49, 53, 1), dtype=bool)\n",
       "    IS_VALID: numpy.ndarray(shape=(6, 49, 53, 1), dtype=bool)\n",
       "  }\n",
       "  scalar: {}\n",
       "  label: {}\n",
       "  vector: {}\n",
       "  data_timeless: {}\n",
       "  mask_timeless: {\n",
       "    VALID_COUNT: numpy.ndarray(shape=(49, 53, 1), dtype=int64)\n",
       "    type_of_wo: numpy.ndarray(shape=(49, 53, 1), dtype=uint8)\n",
       "  }\n",
       "  scalar_timeless: {}\n",
       "  label_timeless: {}\n",
       "  vector_timeless: {}\n",
       "  meta_info: {\n",
       "    maxcc: 0.8\n",
       "    service_type: 'wcs'\n",
       "    size_x: '10m'\n",
       "    size_y: '10m'\n",
       "    time_difference: datetime.timedelta(days=-1, seconds=86399)\n",
       "    time_interval: [datetime.datetime(2017, 4, 17, 0, 0), datetime.datetime(2017, 6, 1, 0, 0)]\n",
       "  }\n",
       "  bbox: BBox(((408702.29344645515, 5781395.214512469), (409231.73518871266, 5781883.35990612)), crs=EPSG:32635)\n",
       "  timestamp: [datetime.datetime(2017, 4, 22, 9, 30, 35), ..., datetime.datetime(2017, 5, 29, 9, 20, 31)], length=6\n",
       ")"
      ]
     },
     "execution_count": 42,
     "metadata": {},
     "output_type": "execute_result"
    }
   ],
   "source": [
    "EOPatch.load('./eopatches_small/eopatch_0/')"
   ]
  },
  {
   "cell_type": "code",
   "execution_count": 43,
   "metadata": {},
   "outputs": [
    {
     "data": {
      "application/vnd.jupyter.widget-view+json": {
       "model_id": "bf526f42044f4db485d210f6b0822259",
       "version_major": 2,
       "version_minor": 0
      },
      "text/plain": [
       "HBox(children=(IntProgress(value=0, max=9), HTML(value='')))"
      ]
     },
     "metadata": {},
     "output_type": "display_data"
    },
    {
     "data": {
      "image/png": "[encoded data removed]",
      "text/plain": [
       "<Figure size 1440x1327.68 with 9 Axes>"
      ]
     },
     "metadata": {},
     "output_type": "display_data"
    }
   ],
   "source": [
    "# Draw the RGB image\n",
    "path_out = './eopatches_small/' if use_smaller_patches else './eopatches_large/'\n",
    "fig = plt.figure(figsize=(20, 20 * aspect_ratio))\n",
    "\n",
    "pbar = tqdm(total=9)\n",
    "for i in range(9):\n",
    "    eopatch = EOPatch.load('{}/eopatch_{}'.format(path_out, i), lazy_loading=True)\n",
    "    ax = plt.subplot(3, 3, i + 1)\n",
    "    plt.imshow(np.clip(eopatch.data['BANDS'][0][..., [2, 1, 0]] * 3.5, 0, 1))\n",
    "    plt.xticks([])\n",
    "    plt.yticks([])\n",
    "    ax.set_aspect(\"auto\")\n",
    "    pbar.update(1)\n",
    "    del eopatch\n",
    "\n",
    "fig.subplots_adjust(wspace=0, hspace=0)"
   ]
  },
  {
   "cell_type": "code",
   "execution_count": 46,
   "metadata": {},
   "outputs": [
    {
     "data": {
      "application/vnd.jupyter.widget-view+json": {
       "model_id": "74e61164d9ae49a3ab0412945c0f8c73",
       "version_major": 2,
       "version_minor": 0
      },
      "text/plain": [
       "HBox(children=(IntProgress(value=0, max=9), HTML(value='')))"
      ]
     },
     "metadata": {},
     "output_type": "display_data"
    },
    {
     "data": {
      "image/png": "[encoded data removed]",
      "text/plain": [
       "<Figure size 1440x1327.68 with 10 Axes>"
      ]
     },
     "metadata": {
      "needs_background": "light"
     },
     "output_type": "display_data"
    }
   ],
   "source": [
    "# Визуализация справочной карты\n",
    "path_out = './eopatches_small/' if use_smaller_patches else './eopatches_large/'\n",
    "\n",
    "fig, axes = plt.subplots(figsize=(20, 20 * aspect_ratio), nrows=3, ncols=3)\n",
    "\n",
    "pbar = tqdm(total=9)\n",
    "for i, ax in enumerate(axes.flat):\n",
    "    eopatch = EOPatch.load('{}/eopatch_{}'.format(path_out, i), lazy_loading=True)\n",
    "    im = ax.imshow(eopatch.mask_timeless['type_of_wo'].squeeze(), cmap=lulc_cmap, norm=lulc_norm)\n",
    "    ax.set_xticks([])\n",
    "    ax.set_yticks([])\n",
    "    ax.set_aspect(\"auto\")\n",
    "    pbar.update(1)\n",
    "    del eopatch\n",
    "\n",
    "fig.subplots_adjust(wspace=0, hspace=0)\n",
    "\n",
    "cb = fig.colorbar(im, ax=axes.ravel().tolist(), orientation='horizontal', pad=0.01, aspect=100)\n",
    "cb.ax.tick_params(labelsize=20)\n",
    "cb.set_ticks([entry.id for entry in type_of_wo])\n",
    "cb.ax.set_xticklabels([entry.class_name for entry in type_of_wo], rotation=45, fontsize=15)\n",
    "plt.show()"
   ]
  },
  {
   "cell_type": "code",
   "execution_count": null,
   "metadata": {},
   "outputs": [],
   "source": [
    "# Составление карты десйствительного количества пикселей\n",
    "path_out = './eopatches_small/' if use_smaller_patches else './eopatches_large/'\n",
    "\n",
    "vmin, vmax = None, None\n",
    "for i in range(9):\n",
    "    eopatch = EOPatch.load('{}/eopatch_{}'.format(path_out, i), lazy_loading=True)\n",
    "    data = eopatch.mask_timeless['VALID_COUNT'].squeeze()\n",
    "    vmin = np.min(data) if vmin is None else (np.min(data) if np.min(data) < vmin else vmin)\n",
    "    vmax = np.max(data) if vmax is None else (np.max(data) if np.max(data) > vmax else vmax)\n",
    "\n",
    "fig, axes = plt.subplots(figsize=(20, 20 * aspect_ratio), nrows=3, ncols=3)\n",
    "\n",
    "pbar = tqdm(total=9)\n",
    "for i, ax in enumerate(axes.flat):\n",
    "    eopatch = EOPatch.load('{}/eopatch_{}'.format(path_out, i), lazy_loading=True)\n",
    "    im = ax.imshow(eopatch.mask_timeless['VALID_COUNT'].squeeze(), vmin=vmin, vmax=vmax, cmap=plt.cm.inferno)\n",
    "    ax.set_xticks([])\n",
    "    ax.set_yticks([])\n",
    "    ax.set_aspect(\"auto\")\n",
    "    pbar.update(1)\n",
    "    del eopatch\n",
    "\n",
    "fig.subplots_adjust(wspace=0, hspace=0)\n",
    "\n",
    "cb = fig.colorbar(im, ax=axes.ravel().tolist(), orientation='horizontal', pad=0.01, aspect=100)\n",
    "cb.ax.tick_params(labelsize=20)\n",
    "plt.show()"
   ]
  },
  {
   "cell_type": "code",
   "execution_count": null,
   "metadata": {},
   "outputs": [],
   "source": [
    "# Построение среднего значения NDVI\n",
    "\n",
    "path_out = './eopatches_small/' if use_smaller_patches else './eopatches_large/'\n",
    "\n",
    "eID = 1\n",
    "eopatch = EOPatch.load('{}/eopatch_{}'.format(path_out, eID), lazy_loading=True)\n",
    "\n",
    "ndvi = eopatch.data['NDVI'] # ndvi data cube\n",
    "mask = eopatch.mask['IS_VALID'] # mask of valid pixels\n",
    "time = np.array(eopatch.timestamp) # x axis\n",
    "t, w, h, _ = ndvi.shape\n",
    "\n",
    "ndvi_clean = ndvi.copy()\n",
    "ndvi_clean[~mask] = np.nan # set values of invalid pixels to NaN's\n",
    "\n",
    "# Calculate means, remove NaN's from means\n",
    "ndvi_mean = np.nanmean(ndvi.reshape(t, w * h).squeeze(), axis=1)\n",
    "ndvi_mean_clean = np.nanmean(ndvi_clean.reshape(t, w * h).squeeze(), axis=1)\n",
    "time_clean = time[~np.isnan(ndvi_mean_clean)]\n",
    "ndvi_mean_clean = ndvi_mean_clean[~np.isnan(ndvi_mean_clean)]\n",
    "\n",
    "fig = plt.figure(figsize=(20,5))\n",
    "plt.plot(time_clean, ndvi_mean_clean, 's-', label = 'Mean NDVI with cloud cleaning')\n",
    "plt.plot(time, ndvi_mean, 'o-', label='Mean NDVI without cloud cleaning')\n",
    "plt.xlabel('Time', fontsize=15)\n",
    "plt.ylabel('Mean NDVI over patch', fontsize=15)\n",
    "plt.xticks(fontsize=15)\n",
    "plt.yticks(fontsize=15)\n",
    "\n",
    "plt.legend(loc=2, prop={'size': 15});"
   ]
  },
  {
   "cell_type": "code",
   "execution_count": null,
   "metadata": {},
   "outputs": [],
   "source": [
    "# Построение среднего по времени NDVI для всего региона\n",
    "\n",
    "path_out = './eopatches_small/' if use_smaller_patches else './eopatches_large/'\n",
    "\n",
    "fig, axes = plt.subplots(figsize=(20, 20 * aspect_ratio), nrows=3, ncols=3)\n",
    "\n",
    "pbar = tqdm(total=9)\n",
    "for i, ax in enumerate(axes.flat):\n",
    "    eopatch = EOPatch.load('{}/eopatch_{}'.format(path_out, i), lazy_loading=True)\n",
    "    ndvi = eopatch.data['NDVI']\n",
    "    mask = eopatch.mask['IS_VALID']\n",
    "    ndvi[~mask] = np.nan\n",
    "    ndvi_mean = np.nanmean(ndvi, axis=0).squeeze()\n",
    "    im = ax.imshow(ndvi_mean, vmin=0, vmax=0.8, cmap=plt.get_cmap('YlGn'))\n",
    "    ax.set_xticks([])\n",
    "    ax.set_yticks([])\n",
    "    ax.set_aspect(\"auto\")\n",
    "    pbar.update(1)\n",
    "    del eopatch\n",
    "\n",
    "fig.subplots_adjust(wspace=0, hspace=0)\n",
    "\n",
    "cb = fig.colorbar(im, ax=axes.ravel().tolist(), orientation='horizontal', pad=0.01, aspect=100)\n",
    "cb.ax.tick_params(labelsize=20)\n",
    "plt.show()"
   ]
  },
  {
   "cell_type": "code",
   "execution_count": null,
   "metadata": {
    "scrolled": false
   },
   "outputs": [],
   "source": [
    "# Построение графика средней вероятности облаков\n",
    "\n",
    "path_out = './eopatches_small/' if use_smaller_patches else './eopatches_large/'\n",
    "\n",
    "fig, axes = plt.subplots(figsize=(20, 20 * aspect_ratio), nrows=3, ncols=3)\n",
    "\n",
    "pbar = tqdm(total=9)\n",
    "for i, ax in enumerate(axes.flat):\n",
    "    eopatch = EOPatch.load('{}/eopatch_{}'.format(path_out, i), lazy_loading=True)\n",
    "    clp = eopatch.data['CLP']\n",
    "    mask = eopatch.mask['IS_VALID']\n",
    "    clp[~mask] = np.nan\n",
    "    clp_mean = np.nanmean(clp, axis=0).squeeze()\n",
    "    im = ax.imshow(clp_mean, vmin=0.0, vmax=0.3, cmap=plt.cm.inferno)\n",
    "    ax.set_xticks([])\n",
    "    ax.set_yticks([])\n",
    "    ax.set_aspect(\"auto\")\n",
    "    pbar.update(1)\n",
    "    del eopatch\n",
    "\n",
    "fig.subplots_adjust(wspace=0, hspace=0)\n",
    "\n",
    "cb = fig.colorbar(im, ax=axes.ravel().tolist(), orientation='horizontal', pad=0.01, aspect=100)\n",
    "cb.ax.tick_params(labelsize=20)\n",
    "plt.show()"
   ]
  },
  {
   "cell_type": "code",
   "execution_count": null,
   "metadata": {},
   "outputs": [],
   "source": [
    "# Часть 2\n",
    "# Создание нового рабочего процесса, который обрабатывает данные\n",
    "# \n",
    "# 1. Удаление слишком облачных сцен\n",
    "# Проверьте соотношение действительных данных для каждого патча и для каждого периода времени\n",
    "# Сохраняйте только временные рамки с >80% действительным покрытием (без облаков)\n",
    "#\n",
    "# 2. Объединение информации BAND, NDVI, NDWI, NORM в одну функцию \n",
    "# под названием FEATURES\n",
    "#\n",
    "# 3. Выполнение временной интерполяции (заполнение пробелов и повторная выборка к одним и тем же датам)\n",
    "# Создать задачу для линейной интерполяции во временном измерении\n",
    "# Укажите маску облака, чтобы сообщить интерполирующей функции, какие значения обновлять\n",
    "# \n",
    "# 4. Удаление артефактов и рёбер между полигонами\n",
    "# Это удаляет артефакты с шириной 1 px, а также удаляет ребра между полигонами разных классов.\n",
    "#\n",
    "# 5. Случайная пространственная выборка EOPatches\n",
    "# Случайно взять подмножество пикселей из патча для использования в обучении машинному обучению\n",
    "#\n",
    "# 6. Разделение патчей для обучения/проверки\n",
    "# Разделите патчи на набор для обучения и проверки"
   ]
  },
  {
   "cell_type": "code",
   "execution_count": null,
   "metadata": {},
   "outputs": [],
   "source": [
    "# Определение классов обрабатываемых объектов\n",
    "\n",
    "class ConcatenateData(EOTask):\n",
    "    \"\"\"\n",
    "        Task to concatenate data arrays along the last dimension\n",
    "    \"\"\"\n",
    "    def __init__(self, feature_name, feature_names_to_concatenate):\n",
    "        self.feature_name = feature_name\n",
    "        self.feature_names_to_concatenate = feature_names_to_concatenate\n",
    "\n",
    "    def execute(self, eopatch):\n",
    "        arrays = [eopatch.data[name] for name in self.feature_names_to_concatenate]\n",
    "\n",
    "        eopatch.add_feature(FeatureType.DATA, self.feature_name, np.concatenate(arrays, axis=-1))\n",
    "\n",
    "        return eopatch\n",
    "\n",
    "\n",
    "class ValidDataFractionPredicate:\n",
    "    \"\"\"\n",
    "    Predicate that defines if a frame from EOPatch's time-series is valid or not. Frame is valid, if the\n",
    "    valid data fraction is above the specified threshold.\n",
    "    \"\"\"\n",
    "    def __init__(self, threshold):\n",
    "        self.threshold = threshold\n",
    "\n",
    "    def __call__(self, array):\n",
    "        coverage = np.sum(array.astype(np.uint8)) / np.prod(array.shape)\n",
    "        return coverage > self.threshold"
   ]
  },
  {
   "cell_type": "code",
   "execution_count": null,
   "metadata": {},
   "outputs": [],
   "source": [
    "# Определение задач для рабочего процесса\n",
    "\n",
    "# TASK TO LOAD EXISTING EOPATCHES\n",
    "load = LoadFromDisk(path_out)\n",
    "\n",
    "# TASK FOR CONCATENATION\n",
    "concatenate = ConcatenateData('FEATURES', ['BANDS', 'NDVI', 'NDWI', 'NORM'])\n",
    "\n",
    "# TASK FOR FILTERING OUT TOO CLOUDY SCENES\n",
    "# keep frames with > 80 % valid coverage\n",
    "valid_data_predicate = ValidDataFractionPredicate(0.8)\n",
    "filter_task = SimpleFilterTask((FeatureType.MASK, 'IS_VALID'), valid_data_predicate)\n",
    "\n",
    "# TASK FOR LINEAR INTERPOLATION\n",
    "# linear interpolation of full time-series and date resampling\n",
    "resampled_range = ('2017-01-01', '2017-12-31', 16)\n",
    "linear_interp = LinearInterpolation(\n",
    "    'FEATURES', # name of field to interpolate\n",
    "    mask_feature=(FeatureType.MASK, 'IS_VALID'), # mask to be used in interpolation\n",
    "    copy_features=[(FeatureType.MASK_TIMELESS, 'LULC')], # features to keep\n",
    "    resample_range=resampled_range, # set the resampling range\n",
    "    bounds_error=False # extrapolate with NaN's\n",
    ")\n",
    "\n",
    "# TASK FOR EROSION\n",
    "# erode each class of the reference map\n",
    "erosion = ErosionTask(mask_feature=(FeatureType.MASK_TIMELESS,'LULC','LULC_ERODED'), disk_radius=1)\n",
    "\n",
    "# TASK FOR SPATIAL SAMPLING\n",
    "# Uniformly sample about pixels from patches\n",
    "n_samples = int(4e4) if use_smaller_patches else int(1e5) # no. of pixels to sample\n",
    "ref_labels = [0,1,2,3,4,5,6,7,8,9,10] # reference labels to take into account when sampling\n",
    "spatial_sampling = PointSamplingTask(\n",
    "    n_samples=n_samples,\n",
    "    ref_mask_feature='LULC_ERODED',\n",
    "    ref_labels=ref_labels,\n",
    "    sample_features=[  # tag fields to sample\n",
    "        (FeatureType.DATA, 'FEATURES'),\n",
    "        (FeatureType.MASK_TIMELESS, 'LULC_ERODED')\n",
    "    ])\n",
    "\n",
    "path_out_sampled = './eopatches_sampled_small/' if use_smaller_patches else './eopatches_sampled_large/'\n",
    "if not os.path.isdir(path_out_sampled):\n",
    "    os.makedirs(path_out_sampled)\n",
    "save = SaveToDisk(path_out_sampled, overwrite_permission=OverwritePermission.OVERWRITE_PATCH)"
   ]
  },
  {
   "cell_type": "code",
   "execution_count": null,
   "metadata": {},
   "outputs": [],
   "source": [
    "# Создание рабочего процесса\n",
    "\n",
    "# Define the workflow\n",
    "workflow = LinearWorkflow(\n",
    "    load,\n",
    "    concatenate,\n",
    "    filter_task,\n",
    "    linear_interp,\n",
    "    erosion,\n",
    "    spatial_sampling,\n",
    "    save\n",
    ")"
   ]
  },
  {
   "cell_type": "code",
   "execution_count": null,
   "metadata": {},
   "outputs": [],
   "source": [
    "%%time\n",
    "\n",
    "# Execute the workflow\n",
    "# Show progress bar\n",
    "pbar = tqdm(total=len(patchIDs))\n",
    "for i in range(len(patchIDs)):\n",
    "    # define additional parameters of the workflow\n",
    "    extra_param = {\n",
    "        load: {'eopatch_folder': 'eopatch_{}'.format(i)},\n",
    "        save: {'eopatch_folder': 'eopatch_{}'.format(i)}\n",
    "    }\n",
    "\n",
    "    workflow.execute(extra_param)\n",
    "    pbar.update(1)"
   ]
  },
  {
   "cell_type": "code",
   "execution_count": null,
   "metadata": {},
   "outputs": [],
   "source": [
    "#6 Построение модели и обучение"
   ]
  },
  {
   "cell_type": "code",
   "execution_count": null,
   "metadata": {
    "scrolled": true
   },
   "outputs": [],
   "source": [
    "# load sampled eopatches\n",
    "eopatches = []\n",
    "path_out_sampled = './eopatches_sampled_small/' if use_smaller_patches else './eopatches_sampled_large/'\n",
    "\n",
    "for i in range(9):\n",
    "    eopatches.append(EOPatch.load('{}/eopatch_{}'.format(path_out_sampled, i), lazy_loading=True))\n",
    "\n",
    "eopatches = np.array(eopatches)"
   ]
  },
  {
   "cell_type": "code",
   "execution_count": null,
   "metadata": {
    "scrolled": false
   },
   "outputs": [],
   "source": [
    "# Создание обучающей и тестовой выборок\n",
    "\n",
    "# Definition of the train and test patch IDs\n",
    "train_ID = [0,2,3,4,5,6,7,8] if use_smaller_patches else [0,1,3,4,5,6,7,8]\n",
    "\n",
    "test_ID = [1] if use_smaller_patches else [2]\n",
    "\n",
    "\n",
    "# Set the features and the labels for train and test sets\n",
    "features_train = np.array([eopatch.data['FEATURES_SAMPLED'] for eopatch in eopatches[train_ID]])\n",
    "labels_train = np.array([eopatch.mask_timeless['LULC_ERODED_SAMPLED'] for eopatch in eopatches[train_ID]])\n",
    "features_test = np.array([eopatch.data['FEATURES_SAMPLED'] for eopatch in eopatches[test_ID]])\n",
    "labels_test = np.array([eopatch.mask_timeless['LULC_ERODED_SAMPLED'] for eopatch in eopatches[test_ID]])\n",
    "\n",
    "#features_train = 0\n",
    "#labels_train = 0\n",
    "#features_test = 0\n",
    "#labels_test = 0"
   ]
  },
  {
   "cell_type": "code",
   "execution_count": null,
   "metadata": {},
   "outputs": [],
   "source": [
    "# get shape\n",
    "p1, t, w, h, f = features_train.shape\n",
    "p2, t, w, h, f = features_test.shape\n",
    "p = p1 + p2\n",
    "\n",
    "# reshape to n x m\n",
    "features_train = np.moveaxis(features_train, 1, 3).reshape(p1 * w * h, t * f)\n",
    "labels_train = np.moveaxis(labels_train, 1, 2).reshape(p1 * w * h, 1).squeeze()\n",
    "features_test = np.moveaxis(features_test, 1, 3).reshape(p2 * w * h, t * f)\n",
    "labels_test = np.moveaxis(labels_test, 1, 2).reshape(p2 * w * h, 1).squeeze()"
   ]
  },
  {
   "cell_type": "code",
   "execution_count": null,
   "metadata": {},
   "outputs": [],
   "source": [
    "# remove points with no reference from training (so we dont train to recognize \"no data\")\n",
    "mask_train = labels_train == 0\n",
    "features_train = features_train[~mask_train]\n",
    "labels_train = labels_train[~mask_train]\n",
    "\n",
    "# remove points with no reference from test (so we dont validate on \"no data\", which doesn't make sense)\n",
    "mask_test = labels_test == 0\n",
    "features_test = features_test[~mask_test]\n",
    "labels_test = labels_test[~mask_test]"
   ]
  },
  {
   "cell_type": "code",
   "execution_count": null,
   "metadata": {},
   "outputs": [],
   "source": [
    "# Настройка и обучение модели"
   ]
  },
  {
   "cell_type": "code",
   "execution_count": null,
   "metadata": {},
   "outputs": [],
   "source": [
    "%%time\n",
    "\n",
    "# Set up training classes\n",
    "labels_unique = np.unique(labels_train)\n",
    "\n",
    "# Set up the model\n",
    "model = lgb.LGBMClassifier(\n",
    "    objective='multiclass',\n",
    "    num_class=len(labels_unique),\n",
    "    metric='multi_logloss'\n",
    ")\n",
    "\n",
    "# train the model\n",
    "model.fit(features_train, labels_train)\n",
    "\n",
    "# uncomment to save the model\n",
    "model_base_name = 'model_SI_LULC_smaller' if use_smaller_patches else 'model_SI_LULC_larger'\n",
    "joblib.dump(model, './{}.pkl'.format(model_base_name))"
   ]
  },
  {
   "cell_type": "code",
   "execution_count": null,
   "metadata": {},
   "outputs": [],
   "source": [
    "# uncomment to load the model and replace with your file, usually just correct the date\n",
    "model_path = './model_SI_LULC_smaller.pkl' if use_smaller_patches else './model_SI_LULC_larger.pkl'\n",
    "model = joblib.load(model_path)"
   ]
  },
  {
   "cell_type": "code",
   "execution_count": null,
   "metadata": {},
   "outputs": [],
   "source": [
    "plabels_test = model.predict(features_test)"
   ]
  },
  {
   "cell_type": "code",
   "execution_count": null,
   "metadata": {},
   "outputs": [],
   "source": [
    "print('Classification accuracy {:.1f}%'.format(100 * metrics.accuracy_score(labels_test, plabels_test)))\n",
    "print('Classification F1-score {:.1f}%'.format(100 * metrics.f1_score(labels_test, plabels_test, average='weighted')))"
   ]
  },
  {
   "cell_type": "code",
   "execution_count": null,
   "metadata": {},
   "outputs": [],
   "source": [
    "class_labels = np.unique(labels_test)\n",
    "class_names = [entry.class_name for entry in LULC]\n",
    "\n",
    "f1_scores = metrics.f1_score(labels_test, plabels_test, labels=class_labels, average=None)\n",
    "recall = metrics.recall_score(labels_test, plabels_test, labels=class_labels, average=None)\n",
    "precision = metrics.precision_score(labels_test, plabels_test, labels=class_labels, average=None)\n",
    "\n",
    "print('             Class              =  F1  | Recall | Precision')\n",
    "print('         --------------------------------------------------')\n",
    "for idx, lulctype in enumerate([class_names[idx] for idx in class_labels]):\n",
    "    print('         * {0:20s} = {1:2.1f} |  {2:2.1f}  | {3:2.1f}'.format(lulctype,\n",
    "                                                                         f1_scores[idx] * 100,\n",
    "                                                                         recall[idx] * 100,\n",
    "                                                                         precision[idx] * 100))"
   ]
  },
  {
   "cell_type": "code",
   "execution_count": null,
   "metadata": {},
   "outputs": [],
   "source": [
    "# Define the plotting function\n",
    "def plot_confusion_matrix(cm, classes,\n",
    "                          normalize=False,\n",
    "                          title='Confusion matrix',\n",
    "                          cmap=plt.cm.Blues, ylabel='True label', xlabel='Predicted label', filename=None):\n",
    "    \"\"\"\n",
    "    This function prints and plots the confusion matrix.\n",
    "    Normalization can be applied by setting `normalize=True`.\n",
    "    \"\"\"\n",
    "    np.set_printoptions(precision=2, suppress=True)\n",
    "\n",
    "    if normalize:\n",
    "        cm = cm.astype('float') / (cm.sum(axis=1)[:, np.newaxis] + np.finfo(np.float).eps)\n",
    "\n",
    "    plt.imshow(cm, interpolation='nearest', cmap=cmap, vmin=0, vmax=1)\n",
    "    plt.title(title, fontsize=20)\n",
    "    # plt.colorbar()\n",
    "    tick_marks = np.arange(len(classes))\n",
    "    plt.xticks(tick_marks, classes, rotation=45, fontsize=20)\n",
    "    plt.yticks(tick_marks, classes, fontsize=20)\n",
    "\n",
    "    fmt = '.2f' if normalize else 'd'\n",
    "    thresh = cm.max() / 2.\n",
    "    for i, j in itertools.product(range(cm.shape[0]), range(cm.shape[1])):\n",
    "        plt.text(j, i, format(cm[i, j], fmt),\n",
    "                 horizontalalignment=\"center\",\n",
    "                 color=\"white\" if cm[i, j] > thresh else \"black\",\n",
    "                 fontsize=12)\n",
    "\n",
    "    plt.tight_layout()\n",
    "    plt.ylabel(ylabel, fontsize=20)\n",
    "    plt.xlabel(xlabel, fontsize=20)"
   ]
  },
  {
   "cell_type": "code",
   "execution_count": null,
   "metadata": {},
   "outputs": [],
   "source": [
    "fig = plt.figure(figsize=(20, 20))\n",
    "\n",
    "plt.subplot(1, 2, 1)\n",
    "conf_matrix_gbm = metrics.confusion_matrix(labels_test, plabels_test)\n",
    "plot_confusion_matrix(conf_matrix_gbm,\n",
    "                      classes=[name for idx, name in enumerate(class_names) if idx in class_labels],\n",
    "                      normalize=True,\n",
    "                      ylabel='Truth (LAND COVER)',\n",
    "                      xlabel='Predicted (GBM)',\n",
    "                      title='Confusion matrix');\n",
    "\n",
    "plt.subplot(1, 2, 2)\n",
    "conf_matrix_gbm = metrics.confusion_matrix(plabels_test, labels_test)\n",
    "plot_confusion_matrix(conf_matrix_gbm,\n",
    "                      classes=[name for idx, name in enumerate(class_names) if idx in class_labels],\n",
    "                      normalize=True,\n",
    "                      xlabel='Truth (LAND COVER)',\n",
    "                      ylabel='Predicted (GBM)',\n",
    "                      title='Transposed Confusion matrix');\n",
    "\n",
    "plt.tight_layout()\n"
   ]
  },
  {
   "cell_type": "code",
   "execution_count": null,
   "metadata": {},
   "outputs": [],
   "source": [
    "\n",
    "fig = plt.figure(figsize=(20, 5))\n",
    "\n",
    "label_ids, label_counts = np.unique(labels_train, return_counts=True)\n",
    "\n",
    "plt.bar(range(len(label_ids)), label_counts)\n",
    "plt.xticks(range(len(label_ids)), [class_names[i] for i in label_ids], rotation=45, fontsize=20);\n",
    "plt.yticks(fontsize=20);"
   ]
  },
  {
   "cell_type": "code",
   "execution_count": null,
   "metadata": {},
   "outputs": [],
   "source": [
    "#Кривые ROC и метрики AUC"
   ]
  },
  {
   "cell_type": "code",
   "execution_count": null,
   "metadata": {},
   "outputs": [],
   "source": [
    "class_labels = np.unique(np.hstack([labels_test, labels_train]))\n",
    "\n",
    "scores_test = model.predict_proba(features_test)\n",
    "labels_binarized = preprocessing.label_binarize(labels_test, classes=class_labels)\n",
    "\n",
    "fpr = dict()\n",
    "tpr = dict()\n",
    "roc_auc = dict()\n",
    "\n",
    "for idx,lbl in enumerate(class_labels):\n",
    "    fpr[idx], tpr[idx], _ = metrics.roc_curve(labels_binarized[:, idx], scores_test[:, idx])\n",
    "    roc_auc[idx] = metrics.auc(fpr[idx], tpr[idx])"
   ]
  },
  {
   "cell_type": "code",
   "execution_count": null,
   "metadata": {},
   "outputs": [],
   "source": [
    "plt.figure(figsize=(20, 10))\n",
    "\n",
    "for idx,lbl in enumerate(class_labels):\n",
    "    if np.isnan(roc_auc[idx]):\n",
    "        continue\n",
    "    plt.plot(fpr[idx], tpr[idx], color=lulc_cmap.colors[lbl],\n",
    "         lw=2, label=class_names[lbl] + ' (%0.5f)' % roc_auc[idx])\n",
    "\n",
    "\n",
    "plt.plot([0, 1], [0, 1], color='navy', lw=2, linestyle='--')\n",
    "plt.xlim([0.0, 0.99])\n",
    "plt.ylim([0.0, 1.05])\n",
    "plt.xlabel('False Positive Rate', fontsize=20)\n",
    "plt.ylabel('True Positive Rate', fontsize=20)\n",
    "plt.xticks(fontsize=20)\n",
    "plt.yticks(fontsize=20)\n",
    "plt.title('ROC Curve', fontsize=20)\n",
    "plt.legend(loc=\"center right\", prop={'size': 15})\n",
    "plt.show()"
   ]
  },
  {
   "cell_type": "code",
   "execution_count": null,
   "metadata": {},
   "outputs": [],
   "source": [
    "# Визуализация результата"
   ]
  },
  {
   "cell_type": "code",
   "execution_count": null,
   "metadata": {},
   "outputs": [],
   "source": [
    "class PredictPatch(EOTask):\n",
    "    \"\"\"\n",
    "    Task to make model predictions on a patch. Provide the model and the feature,\n",
    "    and the output names of labels and scores (optional)\n",
    "    \"\"\"\n",
    "    def __init__(self, model, features_feature, predicted_labels_name, predicted_scores_name=None):\n",
    "        self.model = model\n",
    "        self.features_feature = features_feature\n",
    "        self.predicted_labels_name = predicted_labels_name\n",
    "        self.predicted_scores_name = predicted_scores_name\n",
    "\n",
    "    def execute(self, eopatch):\n",
    "        ftrs = eopatch[self.features_feature[0]][self.features_feature[1]]\n",
    "\n",
    "        t, w, h, f = ftrs.shape\n",
    "        ftrs = np.moveaxis(ftrs, 0, 2).reshape(w * h, t * f)\n",
    "\n",
    "        plabels = self.model.predict(ftrs)\n",
    "        plabels = plabels.reshape(w, h)\n",
    "        plabels = plabels[..., np.newaxis]\n",
    "        eopatch.add_feature(FeatureType.MASK_TIMELESS, self.predicted_labels_name, plabels)\n",
    "\n",
    "        if self.predicted_scores_name:\n",
    "            pscores = self.model.predict_proba(ftrs)\n",
    "            _, d = pscores.shape\n",
    "            pscores = pscores.reshape(w, h, d)\n",
    "            eopatch.add_feature(FeatureType.DATA_TIMELESS, self.predicted_scores_name, pscores)\n",
    "\n",
    "        return eopatch"
   ]
  },
  {
   "cell_type": "code",
   "execution_count": null,
   "metadata": {},
   "outputs": [],
   "source": [
    "# TASK TO LOAD EXISTING EOPATCHES\n",
    "load = LoadFromDisk(path_out_sampled)\n",
    "\n",
    "# TASK FOR PREDICTION\n",
    "predict = PredictPatch(model, (FeatureType.DATA, 'FEATURES'), 'LBL_GBM', 'SCR_GBM')\n",
    "\n",
    "# TASK FOR SAVING\n",
    "save = SaveToDisk(str(path_out_sampled), overwrite_permission=OverwritePermission.OVERWRITE_PATCH)\n",
    "\n",
    "# TASK TO EXPORT TIFF\n",
    "export_tiff = ExportToTiff((FeatureType.MASK_TIMELESS, 'NDVI'))\n",
    "tiff_location = './predicted_tiff'\n",
    "if not os.path.isdir(tiff_location):\n",
    "    os.makedirs(tiff_location)\n",
    "\n",
    "workflow = LinearWorkflow(\n",
    "    load,\n",
    "    predict,\n",
    "    export_tiff,\n",
    "    save\n",
    ")"
   ]
  },
  {
   "cell_type": "code",
   "execution_count": null,
   "metadata": {},
   "outputs": [],
   "source": [
    "%%time\n",
    "\n",
    "# create a list of execution arguments for each patch\n",
    "execution_args = []\n",
    "for i in range(len(patchIDs)):\n",
    "    execution_args.append(\n",
    "        {\n",
    "            load: {'eopatch_folder': 'eopatch_{}'.format(i)},\n",
    "            export_tiff: {'filename': '{}/prediction_eopatch_{}.tiff'.format(tiff_location, i)},\n",
    "            save: {'eopatch_folder': 'eopatch_{}'.format(i)}\n",
    "        }\n",
    "    )\n",
    "\n",
    "# run the executor on 2 cores\n",
    "executor = EOExecutor(workflow, execution_args)\n",
    "executor.run(workers = 2)\n"
   ]
  }
 ],
 "metadata": {
  "kernelspec": {
   "display_name": "Python 3",
   "language": "python",
   "name": "python3"
  },
  "language_info": {
   "codemirror_mode": {
    "name": "ipython",
    "version": 3
   },
   "file_extension": ".py",
   "mimetype": "text/x-python",
   "name": "python",
   "nbconvert_exporter": "python",
   "pygments_lexer": "ipython3",
   "version": "3.7.2"
  }
 },
 "nbformat": 4,
 "nbformat_minor": 2
}
