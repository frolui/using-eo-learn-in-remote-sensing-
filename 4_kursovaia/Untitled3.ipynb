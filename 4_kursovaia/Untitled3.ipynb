{
 "cells": [
  {
   "cell_type": "code",
   "execution_count": null,
   "metadata": {
    "scrolled": false
   },
   "outputs": [],
   "source": [
    "import geopandas as gpd\n",
    "import numpy as np\n",
    "# The core of this example\n",
    "from eolearn.core import EOTask, EOPatch, LinearWorkflow, FeatureType, OverwritePermission, LoadFromDisk, SaveToDisk, EOExecutor\n",
    "from eolearn.io import S2L1CWCSInput, ExportToTiff\n",
    "from eolearn.mask import AddCloudMaskTask, get_s2_pixel_cloud_detector, AddValidDataMaskTask\n",
    "from eolearn.geometry import VectorToRaster, PointSamplingTask, ErosionTask\n",
    "from eolearn.features import LinearInterpolation, SimpleFilterTask\n",
    "from sentinelhub import BBoxSplitter, BBox, CRS, CustomUrlParam\n",
    "\n",
    "land_cover_path = 'D:/YandexDisk/курсач_4/polygons_att.shp'\n",
    "land_cover = gpd.read_file(land_cover_path)\n",
    "\n",
    "land_cover_val = [0,1,2,3,4,5,6,7,8,9,10]\n",
    "land_cover_array = []\n",
    "for val in land_cover_val:\n",
    "    temp = land_cover[land_cover.lulcid == val]\n",
    "    temp.reset_index(drop=True, inplace=True)\n",
    "    land_cover_array.append(temp)\n",
    "    del temp\n",
    "    \n",
    "rshape = (FeatureType.MASK, 'IS_VALID')\n",
    "\n",
    "land_cover_task_array = []\n",
    "for el, val in zip(land_cover_array, land_cover_val):\n",
    "    land_cover_task_array.append(VectorToRaster(\n",
    "        feature=(FeatureType.MASK_TIMELESS, 'LULC'),\n",
    "        vector_data=el,\n",
    "        raster_value=val,\n",
    "        raster_shape=rshape,\n",
    "        raster_dtype=np.uint8))  \n",
    "    \n",
    "print(land_cover_task_array)    "
   ]
  }
 ],
 "metadata": {
  "kernelspec": {
   "display_name": "Python 3",
   "language": "python",
   "name": "python3"
  },
  "language_info": {
   "codemirror_mode": {
    "name": "ipython",
    "version": 3
   },
   "file_extension": ".py",
   "mimetype": "text/x-python",
   "name": "python",
   "nbconvert_exporter": "python",
   "pygments_lexer": "ipython3",
   "version": "3.7.2"
  }
 },
 "nbformat": 4,
 "nbformat_minor": 2
}
