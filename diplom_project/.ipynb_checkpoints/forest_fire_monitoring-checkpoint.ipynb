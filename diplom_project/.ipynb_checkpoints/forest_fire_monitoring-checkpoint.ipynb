{
 "cells": [
  {
   "cell_type": "code",
   "execution_count": 1,
   "metadata": {},
   "outputs": [],
   "source": [
    "# часть 1. Импорт зависимостей\n",
    "\n",
    "# Jupyter notebook related\n",
    "%reload_ext autoreload\n",
    "%autoreload 2\n",
    "%matplotlib inline\n",
    "\n",
    "# Basics of Python data handling and visualization\n",
    "import numpy as np\n",
    "import matplotlib as mpl\n",
    "import matplotlib.pyplot as plt\n",
    "import matplotlib.gridspec as gridspec\n",
    "from mpl_toolkits.axes_grid1 import make_axes_locatable\n",
    "import pandas as pd\n",
    "from shapely.geometry import Polygon\n",
    "\n",
    "# Basics of GIS\n",
    "import geopandas as gpd\n",
    "\n",
    "# The core of this example\n",
    "from eolearn.core import EOTask, EOPatch, LinearWorkflow, FeatureType, OverwritePermission, LoadFromDisk, SaveToDisk, EOExecutor\n",
    "from eolearn.io import S2L1CWCSInput, ExportToTiff\n",
    "from eolearn.mask import AddCloudMaskTask, get_s2_pixel_cloud_detector, AddValidDataMaskTask\n",
    "from eolearn.geometry import VectorToRaster, PointSamplingTask, ErosionTask\n",
    "from eolearn.features import LinearInterpolation, SimpleFilterTask\n",
    "from sentinelhub import BBoxSplitter, BBox, CRS, CustomUrlParam\n",
    "\n",
    "# Machine learning\n",
    "import lightgbm as lgb\n",
    "from sklearn.externals import joblib\n",
    "from sklearn import metrics\n",
    "from sklearn import preprocessing\n",
    "\n",
    "# Misc\n",
    "import pickle\n",
    "import sys\n",
    "import os\n",
    "import datetime\n",
    "import itertools\n",
    "from tqdm import tqdm_notebook as tqdm\n",
    "import enum\n",
    "\n",
    "# Basik math\n",
    "from math import sqrt"
   ]
  },
  {
   "cell_type": "code",
   "execution_count": 51,
   "metadata": {},
   "outputs": [
    {
     "data": {
      "image/png": "[encoded data removed]",
      "text/plain": [
       "<Figure size 432x288 with 1 Axes>"
      ]
     },
     "metadata": {
      "needs_background": "light"
     },
     "output_type": "display_data"
    }
   ],
   "source": [
    "# часть 2. Импорт зависимостей\n",
    "# .kmz files are unsupported\n",
    "\n",
    "# Folder where data for running the notebook is stored\n",
    "DATA_FOLDER = ('C:/Users/frolui/Documents/GitHub/using-eo-learn-in-remote-sensing-/diplom_project')\n",
    "\n",
    "# Load geojson file\n",
    "country = gpd.read_file(os.path.join(DATA_FOLDER, 'place.geojson'))\n",
    "\n",
    "# # Загрузить файл с изучаемой территорией\n",
    "# country = gpd.read_file('D:/YandexDisk/курсач_5/source/place.geojson') \n",
    "\n",
    "# Конвертирование CRS в UTM_35N\n",
    "country_crs = CRS.UTM_35N\n",
    "country = country.to_crs(crs={'init': CRS.ogc_string(country_crs)})\n",
    "\n",
    "# Получение полигонального объекта с формой\n",
    "country_shape = country.geometry.values.tolist()[-1]\n",
    "\n",
    "# Plot country\n",
    "country.plot()\n",
    "plt.axis('off');"
   ]
  },
  {
   "cell_type": "code",
   "execution_count": 52,
   "metadata": {},
   "outputs": [
    {
     "name": "stdout",
     "output_type": "stream",
     "text": [
      "Dimension of the area is 14410 x 15443 m2\n"
     ]
    }
   ],
   "source": [
    "# 2.1\n",
    "\n",
    "# Print size\n",
    "print('Dimension of the area is {0:.0f} x {1:.0f} m2'.format(country_shape.bounds[2] - country_shape.bounds[0],\n",
    "                                                             country_shape.bounds[3] - country_shape.bounds[1]))"
   ]
  },
  {
   "cell_type": "code",
   "execution_count": 53,
   "metadata": {},
   "outputs": [],
   "source": [
    "# 2.2\n",
    "\n",
    "use_smaller_patches = True\n",
    "\n",
    "# Create the splitter to obtain a list of bboxes\n",
    "bbox_splitter_large = BBoxSplitter([country_shape], country_crs, (2, 2))\n",
    "bbox_splitter_small = BBoxSplitter([country_shape], country_crs, (2 * 3, 2 * 3))\n",
    "\n",
    "bbox_splitter = bbox_splitter_small if use_smaller_patches else bbox_splitter_large\n",
    "\n",
    "bbox_list = np.array(bbox_splitter.get_bbox_list())\n",
    "info_list = np.array(bbox_splitter.get_info_list())"
   ]
  },
  {
   "cell_type": "code",
   "execution_count": 54,
   "metadata": {},
   "outputs": [],
   "source": [
    "# часть 3. Выбор центрального контейнера\n",
    "\n",
    "ID = 15 if use_smaller_patches else 190\n",
    "\n",
    "# Obtain surrounding patches\n",
    "patchIDs = []\n",
    "for idx, [bbox, info] in enumerate(zip(bbox_list, info_list)):\n",
    "    if (abs(info['index_x'] - info_list[ID]['index_x']) <= 1 and\n",
    "        abs(info['index_y'] - info_list[ID]['index_y']) <= 1):\n",
    "        patchIDs.append(idx)\n",
    "        \n",
    "# Check if final size is 3x3\n",
    "if len(patchIDs) != 9:\n",
    "    print('Warning! Use a different central patch ID, this one is on the border.')  \n",
    "\n",
    "# Change the order of the patches (used for plotting later)\n",
    "patchIDs = np.transpose(np.fliplr(np.array(patchIDs).reshape(3, 3))).ravel()   \n",
    "\n",
    "# Prepare info of selected EOPatches\n",
    "geometry = [Polygon(bbox.get_polygon()) for bbox in bbox_list[patchIDs]]\n",
    "idxs_x = [info['index_x'] for info in info_list[patchIDs]]\n",
    "idxs_y = [info['index_y'] for info in info_list[patchIDs]]\n",
    "df = pd.DataFrame({'index_x': idxs_x, 'index_y': idxs_y})\n",
    "\n",
    "gdf = gpd.GeoDataFrame(df, crs={'init': CRS.ogc_string(country_crs)}, geometry=geometry)"
   ]
  },
  {
   "cell_type": "code",
   "execution_count": 55,
   "metadata": {},
   "outputs": [],
   "source": [
    "#3.1\n",
    "\n",
    "# save to shapefile\n",
    "shapefile_name = './selected_3x3_bboxes_dist_small_2.shp' if use_smaller_patches \\\n",
    "    else './selected_3x3_bboxes_dist_large_2.shp'\n",
    "gdf.to_file(shapefile_name)"
   ]
  },
  {
   "cell_type": "code",
   "execution_count": 56,
   "metadata": {},
   "outputs": [
    {
     "data": {
      "text/html": [
       "<div>\n",
       "<style scoped>\n",
       "    .dataframe tbody tr th:only-of-type {\n",
       "        vertical-align: middle;\n",
       "    }\n",
       "\n",
       "    .dataframe tbody tr th {\n",
       "        vertical-align: top;\n",
       "    }\n",
       "\n",
       "    .dataframe thead th {\n",
       "        text-align: right;\n",
       "    }\n",
       "</style>\n",
       "<table border=\"1\" class=\"dataframe\">\n",
       "  <thead>\n",
       "    <tr style=\"text-align: right;\">\n",
       "      <th></th>\n",
       "      <th>index_x</th>\n",
       "      <th>index_y</th>\n",
       "      <th>geometry</th>\n",
       "    </tr>\n",
       "  </thead>\n",
       "  <tbody>\n",
       "    <tr>\n",
       "      <td>0</td>\n",
       "      <td>1</td>\n",
       "      <td>4</td>\n",
       "      <td>POLYGON ((518913.6757253294 5727228.931828612,...</td>\n",
       "    </tr>\n",
       "    <tr>\n",
       "      <td>1</td>\n",
       "      <td>2</td>\n",
       "      <td>4</td>\n",
       "      <td>POLYGON ((521315.3085657184 5727228.931828612,...</td>\n",
       "    </tr>\n",
       "    <tr>\n",
       "      <td>2</td>\n",
       "      <td>3</td>\n",
       "      <td>4</td>\n",
       "      <td>POLYGON ((523716.9414061075 5727228.931828612,...</td>\n",
       "    </tr>\n",
       "    <tr>\n",
       "      <td>3</td>\n",
       "      <td>1</td>\n",
       "      <td>3</td>\n",
       "      <td>POLYGON ((518913.6757253294 5724655.036680756,...</td>\n",
       "    </tr>\n",
       "    <tr>\n",
       "      <td>4</td>\n",
       "      <td>2</td>\n",
       "      <td>3</td>\n",
       "      <td>POLYGON ((521315.3085657184 5724655.036680756,...</td>\n",
       "    </tr>\n",
       "  </tbody>\n",
       "</table>\n",
       "</div>"
      ],
      "text/plain": [
       "   index_x  index_y                                           geometry\n",
       "0        1        4  POLYGON ((518913.6757253294 5727228.931828612,...\n",
       "1        2        4  POLYGON ((521315.3085657184 5727228.931828612,...\n",
       "2        3        4  POLYGON ((523716.9414061075 5727228.931828612,...\n",
       "3        1        3  POLYGON ((518913.6757253294 5724655.036680756,...\n",
       "4        2        3  POLYGON ((521315.3085657184 5724655.036680756,..."
      ]
     },
     "execution_count": 56,
     "metadata": {},
     "output_type": "execute_result"
    }
   ],
   "source": [
    "#3.2\n",
    "\n",
    "poly = gdf['geometry'][0]\n",
    "x1, y1, x2, y2 = poly.bounds\n",
    "aspect_ratio = (y1 - y2) / (x1 - x2)\n",
    "\n",
    "# содержиме датафрейма\n",
    "gdf.head()"
   ]
  },
  {
   "cell_type": "code",
   "execution_count": 57,
   "metadata": {},
   "outputs": [
    {
     "data": {
      "text/plain": [
       "(515791.5530328235, 531642.3297793912, 5716161.1826928295, 5733148.890668681)"
      ]
     },
     "execution_count": 57,
     "metadata": {},
     "output_type": "execute_result"
    },
    {
     "data": {
      "image/png": "[encoded data removed]",
      "text/plain": [
       "<Figure size 1440x1440 with 1 Axes>"
      ]
     },
     "metadata": {
      "needs_background": "light"
     },
     "output_type": "display_data"
    }
   ],
   "source": [
    "#3.3\n",
    "\n",
    "fontdict = {'family': 'monospace', 'weight': 'normal', 'size': 11}\n",
    "\n",
    "# if bboxes have all same size, estimate offset\n",
    "xl, yl, xu, yu = gdf.geometry[0].bounds\n",
    "xoff, yoff = (xu - xl) / 3, (yu - yl) / 5\n",
    "\n",
    "# figure\n",
    "fig, ax = plt.subplots(figsize=(20, 20))\n",
    "gdf.plot(ax=ax,facecolor='w',edgecolor='r',alpha=0.5)\n",
    "country.plot(ax=ax, facecolor='w',edgecolor='b',alpha=0.5)\n",
    "ax.set_title('Selected 3x3  tiles from dist (6 x 6 grid)');\n",
    "plt.axis('off')"
   ]
  },
  {
   "cell_type": "code",
   "execution_count": 58,
   "metadata": {},
   "outputs": [],
   "source": [
    "# часть 4. Описание задач рабочего процесса\n",
    "\n",
    "class SentinelHubValidData:\n",
    "    \"\"\"\n",
    "    Combine Sen2Cor's classification map with `IS_DATA` to define a `VALID_DATA_SH` mask\n",
    "    The SentinelHub's cloud mask is asumed to be found in eopatch.mask['CLM']\n",
    "    \"\"\"\n",
    "    def __call__(self, eopatch):\n",
    "        return np.logical_and(eopatch.mask['IS_DATA'].astype(np.bool),\n",
    "                              np.logical_not(eopatch.mask['CLM'].astype(np.bool)))\n",
    "\n",
    "class CountValid(EOTask):\n",
    "    \"\"\"\n",
    "    The task counts number of valid observations in time-series and stores the results in the timeless mask.\n",
    "    \"\"\"\n",
    "    def __init__(self, count_what, feature_name):\n",
    "        self.what = count_what\n",
    "        self.name = feature_name\n",
    "\n",
    "    def execute(self, eopatch):\n",
    "        eopatch.add_feature(FeatureType.MASK_TIMELESS, self.name, np.count_nonzero(eopatch.mask[self.what],axis=0))\n",
    "\n",
    "        return eopatch"
   ]
  },
  {
   "cell_type": "code",
   "execution_count": 59,
   "metadata": {},
   "outputs": [],
   "source": [
    "# rewrite this task for complite dNBR calculation\n",
    "\n",
    "class DifferenceNormalBurningRatio(EOTask):\n",
    "    \"\"\"\n",
    "    NBR = (9 - 12)/(9 + 12)\n",
    "    DNBR = NBR_2 - NBR_1\n",
    "    \"\"\"\n",
    "    def __init__(self, feature_name, band_a, band_b):\n",
    "        self.feature_name = feature_name\n",
    "        \n",
    "        self.band_a_fetaure_name = band_a.split('/')[0]\n",
    "        self.band_b_fetaure_name = band_b.split('/')[0]\n",
    "        \n",
    "        self.band_a_fetaure_idx = int(band_a.split('/')[-1])\n",
    "        self.band_b_fetaure_idx = int(band_b.split('/')[-1])\n",
    "\n",
    "    def execute(self, eopatch):\n",
    "        band_a = eopatch.data[self.band_a_fetaure_name][..., self.band_a_fetaure_idx]\n",
    "        band_b = eopatch.data[self.band_b_fetaure_name][..., self.band_b_fetaure_idx]\n",
    "\n",
    "        dvi = (band_a - band_b)\n",
    "\n",
    "        eopatch.add_feature(FeatureType.DATA, self.feature_name, dvi[..., np.newaxis])\n",
    "\n",
    "        return eopatch"
   ]
  },
  {
   "cell_type": "code",
   "execution_count": 60,
   "metadata": {},
   "outputs": [],
   "source": [
    "# Определение задач рабочего процесса\n",
    "# TASK FOR BAND DATA\n",
    "\n",
    "# add a request for R(B04), NIR (B08), Vegetation Red Edge VRE(B8A), Water vapour WV(B9), SWIR1(B11), SWIR2(B12)\n",
    "\n",
    "# from default layer 'ALL_BANDS' at 10m resolution\n",
    "# Here we also do a simple filter of cloudy scenes. A detailed cloud cover\n",
    "# detection is performed in the next step\n",
    "custom_script = 'return [B04, B08, B08A, B09, B11, B12];'\n",
    "add_data = S2L1CWCSInput(\n",
    "    layer='BANDS-S2-L1C',\n",
    "    feature=(FeatureType.DATA, 'BANDS'), # save under name 'BANDS'\n",
    "    custom_url_params={CustomUrlParam.EVALSCRIPT: custom_script}, # custom url for 6 specific bands\n",
    "    resx='10m', # resolution x\n",
    "    resy='10m', # resolution y\n",
    "    maxcc=0.8, # maximum allowed cloud cover of original ESA tiles\n",
    ")"
   ]
  },
  {
   "cell_type": "code",
   "execution_count": 61,
   "metadata": {},
   "outputs": [],
   "source": [
    "# Задача на расчет маски облачности\n",
    "# cloud detection is performed at 80m resolution\n",
    "# and the resulting cloud probability map and mask\n",
    "# are scaled to EOPatch's resolution\n",
    "cloud_classifier = get_s2_pixel_cloud_detector(average_over=2, dilation_size=1, all_bands=False)\n",
    "add_clm = AddCloudMaskTask(cloud_classifier, 'BANDS-S2CLOUDLESS', cm_size_y='80m', cm_size_x='80m',\n",
    "                           cmask_feature='CLM', # cloud mask name\n",
    "                           cprobs_feature='CLP' # cloud prob. map name\n",
    "                          )"
   ]
  },
  {
   "cell_type": "code",
   "execution_count": 62,
   "metadata": {},
   "outputs": [],
   "source": [
    "# Задача на расчет показателей\n",
    "\n",
    "# NBR = (9 - 12)/(9 + 12)\n",
    "# DNBR = NBR_2 - NBR_1\n",
    "\n",
    "dnbr = DifferenceNormalBurningRatio('DNBR', 'BANDS/3','BANDS/5')"
   ]
  },
  {
   "cell_type": "code",
   "execution_count": 63,
   "metadata": {},
   "outputs": [],
   "source": [
    "# Задача на маску действительных пикселей\n",
    "# validate pixels using SentinelHub's cloud detection mask and region of acquisition\n",
    "add_sh_valmask = AddValidDataMaskTask(SentinelHubValidData(),\n",
    "                                      'IS_VALID' # name of output mask\n",
    "                                     )\n",
    "\n",
    "# Задача на валидацию пикселей\n",
    "# count number of valid observations per pixel using valid data mask\n",
    "count_val_sh = CountValid('IS_VALID', # name of existing mask\n",
    "                          'VALID_COUNT' # name of output scalar\n",
    "                         )\n",
    "\n",
    "# Задача на сохранение вывода (опционально)\n",
    "# TASK FOR SAVING TO OUTPUT (if needed)\n",
    "path_out = './eopatches_small/' if use_smaller_patches else './eopatches_large/'\n",
    "if not os.path.isdir(path_out):\n",
    "    os.makedirs(path_out)\n",
    "save = SaveToDisk(path_out, overwrite_permission=OverwritePermission.OVERWRITE_PATCH)"
   ]
  },
  {
   "cell_type": "code",
   "execution_count": 64,
   "metadata": {},
   "outputs": [],
   "source": [
    "# часть 5. Загрузка справочной карты\n",
    "\n",
    "# Определение классов земного покрова справочной карты\n",
    "\n",
    "class LULC(enum.Enum):\n",
    "    NO_DATA            = (0,  'No Data',            'white')\n",
    "    ROAD               = (1,  'Road',               'xkcd:lime')\n",
    "    FOREST             = (2,  'Unclass_forest',     'xkcd:olive')\n",
    "    SETTLEMENT         = (3,  'Settlement',         'orange')\n",
    "    FIELDS             = (4,  'Fields',             'xkcd:tan')\n",
    "    WATER              = (5,  'Water',              'xkcd:azure')    \n",
    "    FOREST_DUB         = (6,  'Dub',                'xkcd:darkgreen')\n",
    "    FOREST_GRAB        = (7,  'Grab',               'xkcd:green')\n",
    "    FOREST_SOSNA       = (8,  'Sosna',              'xkcd:khaki')\n",
    "    FOREST_MELKOL      = (9,  'Melkolistv',         'xkcd:navy')\n",
    "    FOREST_BEREZA      = (10, 'Bereza',             'xkcd:plum')\n",
    "    \n",
    "    def __init__(self, val1, val2, val3):\n",
    "        self.id = val1\n",
    "        self.class_name = val2\n",
    "        self.color = val3\n",
    "\n",
    "# example usecase\n",
    "# LULC.BARELAND.id   # return 9\n",
    "\n",
    "# Reference colormap things\n",
    "lulc_cmap = mpl.colors.ListedColormap([entry.color for entry in LULC])\n",
    "lulc_norm = mpl.colors.BoundaryNorm(np.arange(-0.5, 11, 1), lulc_cmap.N)\n",
    "\n",
    "\n",
    "name_str = 'small' if use_smaller_patches else 'large'\n",
    "land_cover_path = os.path.join(DATA_FOLDER, 'exemple_map.shp')\n",
    "\n",
    "land_cover_data = gpd.read_file(land_cover_path)\n",
    "\n",
    "rasterization_task = VectorToRaster(land_cover_data, (FeatureType.MASK_TIMELESS, 'LULC'),\n",
    "                                    values_column='lulcid', raster_shape=(FeatureType.MASK, 'IS_VALID'),\n",
    "                                    raster_dtype=np.uint8)"
   ]
  },
  {
   "cell_type": "code",
   "execution_count": 65,
   "metadata": {},
   "outputs": [],
   "source": [
    "# часть 6. Формирование рабочего процесса\n",
    "\n",
    "# Определение рабочего процесса - EOWorkflow из EOTask \n",
    "workflow = LinearWorkflow(\n",
    "    add_data,\n",
    "    add_clm,\n",
    "    dnbr,\n",
    "    add_sh_valmask,\n",
    "    count_val_sh,\n",
    "    save\n",
    ")"
   ]
  },
  {
   "cell_type": "code",
   "execution_count": 66,
   "metadata": {},
   "outputs": [
    {
     "data": {
      "application/vnd.jupyter.widget-view+json": {
       "model_id": "ccc6a6ef739c461d8ddbcd52b1b77ef4",
       "version_major": 2,
       "version_minor": 0
      },
      "text/plain": [
       "HBox(children=(IntProgress(value=0, max=9), HTML(value='')))"
      ]
     },
     "metadata": {},
     "output_type": "display_data"
    },
    {
     "name": "stdout",
     "output_type": "stream",
     "text": [
      "Wall time: 1.28 s\n"
     ]
    }
   ],
   "source": [
    "%%time\n",
    "\n",
    "# Execute the workflow\n",
    "time_interval = ['2019-04-15', '2019-4-30'] # time interval for the SH request\n",
    "\n",
    "# define additional parameters of the workflow\n",
    "execution_args = []\n",
    "for idx, bbox in enumerate(bbox_list[patchIDs]):\n",
    "    execution_args.append({\n",
    "        add_data:{'bbox': bbox, 'time_interval': time_interval},\n",
    "        save: {'eopatch_folder': 'eopatch_{}'.format(idx)}\n",
    "    })\n",
    "\n",
    "executor = EOExecutor(workflow, execution_args, save_logs=True)\n",
    "executor.run(workers=5, multiprocess=False)\n",
    "\n",
    "executor.make_report()"
   ]
  },
  {
   "cell_type": "code",
   "execution_count": 67,
   "metadata": {},
   "outputs": [
    {
     "ename": "ValueError",
     "evalue": "Specified path ./eopatches_small/eopatch_0/ does not exist",
     "output_type": "error",
     "traceback": [
      "\u001b[1;31m---------------------------------------------------------------------------\u001b[0m",
      "\u001b[1;31mValueError\u001b[0m                                Traceback (most recent call last)",
      "\u001b[1;32m<ipython-input-67-210464b94a3f>\u001b[0m in \u001b[0;36m<module>\u001b[1;34m\u001b[0m\n\u001b[1;32m----> 1\u001b[1;33m \u001b[0mEOPatch\u001b[0m\u001b[1;33m.\u001b[0m\u001b[0mload\u001b[0m\u001b[1;33m(\u001b[0m\u001b[1;34m'./eopatches_small/eopatch_0/'\u001b[0m\u001b[1;33m)\u001b[0m\u001b[1;33m\u001b[0m\u001b[1;33m\u001b[0m\u001b[0m\n\u001b[0m",
      "\u001b[1;32mc:\\users\\frolui\\appdata\\local\\programs\\python\\python37\\lib\\site-packages\\eolearn\\core\\eodata.py\u001b[0m in \u001b[0;36mload\u001b[1;34m(path, features, lazy_loading, mmap)\u001b[0m\n\u001b[0;32m    663\u001b[0m         \"\"\"\n\u001b[0;32m    664\u001b[0m         \u001b[1;32mif\u001b[0m \u001b[1;32mnot\u001b[0m \u001b[0mos\u001b[0m\u001b[1;33m.\u001b[0m\u001b[0mpath\u001b[0m\u001b[1;33m.\u001b[0m\u001b[0mexists\u001b[0m\u001b[1;33m(\u001b[0m\u001b[0mpath\u001b[0m\u001b[1;33m)\u001b[0m\u001b[1;33m:\u001b[0m\u001b[1;33m\u001b[0m\u001b[1;33m\u001b[0m\u001b[0m\n\u001b[1;32m--> 665\u001b[1;33m             \u001b[1;32mraise\u001b[0m \u001b[0mValueError\u001b[0m\u001b[1;33m(\u001b[0m\u001b[1;34m'Specified path {} does not exist'\u001b[0m\u001b[1;33m.\u001b[0m\u001b[0mformat\u001b[0m\u001b[1;33m(\u001b[0m\u001b[0mpath\u001b[0m\u001b[1;33m)\u001b[0m\u001b[1;33m)\u001b[0m\u001b[1;33m\u001b[0m\u001b[1;33m\u001b[0m\u001b[0m\n\u001b[0m\u001b[0;32m    666\u001b[0m \u001b[1;33m\u001b[0m\u001b[0m\n\u001b[0;32m    667\u001b[0m         \u001b[0mentire_content\u001b[0m \u001b[1;33m=\u001b[0m \u001b[0mEOPatch\u001b[0m\u001b[1;33m.\u001b[0m\u001b[0m_get_eopatch_content\u001b[0m\u001b[1;33m(\u001b[0m\u001b[0mpath\u001b[0m\u001b[1;33m,\u001b[0m \u001b[0mmmap\u001b[0m\u001b[1;33m=\u001b[0m\u001b[0mmmap\u001b[0m\u001b[1;33m)\u001b[0m\u001b[1;33m\u001b[0m\u001b[1;33m\u001b[0m\u001b[0m\n",
      "\u001b[1;31mValueError\u001b[0m: Specified path ./eopatches_small/eopatch_0/ does not exist"
     ]
    }
   ],
   "source": [
    "EOPatch.load('./eopatches_small/eopatch_0/')"
   ]
  },
  {
   "cell_type": "code",
   "execution_count": null,
   "metadata": {},
   "outputs": [],
   "source": []
  }
 ],
 "metadata": {
  "kernelspec": {
   "display_name": "Python 3",
   "language": "python",
   "name": "python3"
  },
  "language_info": {
   "codemirror_mode": {
    "name": "ipython",
    "version": 3
   },
   "file_extension": ".py",
   "mimetype": "text/x-python",
   "name": "python",
   "nbconvert_exporter": "python",
   "pygments_lexer": "ipython3",
   "version": "3.7.2"
  }
 },
 "nbformat": 4,
 "nbformat_minor": 2
}
